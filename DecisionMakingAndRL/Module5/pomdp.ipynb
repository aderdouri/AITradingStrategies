{
 "cells": [
  {
   "cell_type": "markdown",
   "metadata": {
    "deletable": false,
    "editable": false,
    "nbgrader": {
     "cell_type": "markdown",
     "checksum": "670d70a4027fa4af09be2af2d5ab340f",
     "grade": false,
     "grade_id": "cell-212703b31bac5370",
     "locked": true,
     "schema_version": 3,
     "solution": false,
     "task": false
    }
   },
   "source": [
    "# Partial Observability\n",
    "\n",
    "In this assignment, we explore methods to update the belief state and employ belief transition functions to calculate state values. Note that in Partially Observable MDPs (POMDPs), the agent cannot directly observe the underlying state. After taking an action and making observations, the agent updates its belief about the state it is in. You can read more about POMDPs [here](https://en.wikipedia.org/wiki/Partially_observable_Markov_decision_process).\n",
    "\n",
    "Let $b(s)$ denote the probability that the agent is in state $s \\in S$."
   ]
  },
  {
   "attachments": {
    "image.png": {
     "image/png": "[encoded data removed]"
    }
   },
   "cell_type": "markdown",
   "metadata": {
    "deletable": false,
    "editable": false,
    "nbgrader": {
     "cell_type": "markdown",
     "checksum": "df197ae41bf3a1710a3b9b52659545c2",
     "grade": false,
     "grade_id": "cell-d2b85efdee879885",
     "locked": true,
     "schema_version": 3,
     "solution": false,
     "task": false
    }
   },
   "source": [
    "![image.png](attachment:image.png)"
   ]
  },
  {
   "cell_type": "markdown",
   "metadata": {
    "deletable": false,
    "editable": false,
    "nbgrader": {
     "cell_type": "markdown",
     "checksum": "8939b29f2c244da371c3a13470d2599b",
     "grade": false,
     "grade_id": "cell-bd62d293e48380d7",
     "locked": true,
     "schema_version": 3,
     "solution": false,
     "task": false
    }
   },
   "source": [
    "Let us consider the Mini-Gridworld example discussed in the lecture. We have \n",
    "- States $S$: A, B, C (encoded as 0,1,2)\n",
    "- Actions $A$: L, R (encoded as 0,1)\n",
    "- Transition probabilities $T$: T[successor_state, current_state, action] =  0.8 in the \"Intended direction\"\n",
    "- Observations $\\Omega$: NoWall, Wall (encoded as 0, 1)\n",
    "- Sensor model, or conditional observation probabilities $O$: $O(1|A) = 0.5, O(1|C) = 0.5, O(1|B) = 0$\n",
    "\n",
    "#### Note: Please do not modify any pre-defined variables. Doing so can affect the autograder results.\n"
   ]
  },
  {
   "cell_type": "code",
   "execution_count": null,
   "metadata": {
    "deletable": false,
    "editable": false,
    "nbgrader": {
     "cell_type": "code",
     "checksum": "342ebbc0f9e5a0e3869b007da7c474db",
     "grade": false,
     "grade_id": "cell-da5ce29e3038403f",
     "locked": true,
     "schema_version": 3,
     "solution": false,
     "task": false
    }
   },
   "outputs": [],
   "source": [
    "# importing required libraries\n",
    "import numpy as np\n",
    "\n",
    "# problem constants\n",
    "# states\n",
    "S = [0, 1, 2]\n",
    "Omega = [0, 1]\n",
    "\n",
    "# transition probabilities\n",
    "#T[_s, s, a] = 0.8 in the intended direction. 0.2 in the opposite direction. 0 if not reachable.\n",
    "\n",
    "T = np.zeros((3, 3, 2))\n",
    "T[0,0,0] = 0.8\n",
    "T[1,0,0] = 0.2\n",
    "T[2,0,0] = 0\n",
    "\n",
    "T[0,1,0] = 0.8\n",
    "T[1,1,0] = 0\n",
    "T[2,1,0] = 0.2\n",
    "\n",
    "T[0,2,0] = 0\n",
    "T[1,2,0] = 0.8\n",
    "T[2,2,0] = 0.2\n",
    "\n",
    "for _s in S:\n",
    "    for s in S:\n",
    "        if T[_s, s, 0] == 0:  \n",
    "            T[_s, s, 1] = 0\n",
    "        else: \n",
    "            T[_s, s, 1] = 1 - T[_s, s, 0]\n",
    "        \n",
    "# observation probabilities\n",
    "O = np.zeros((2, 3))\n",
    "O[1, 0] = 0.5\n",
    "O[1, 1] = 0\n",
    "O[1, 2] = 0.5\n",
    "O[0, 0] = 0.5\n",
    "O[0, 1] = 1\n",
    "O[0, 2] = 0.5"
   ]
  },
  {
   "cell_type": "markdown",
   "metadata": {
    "deletable": false,
    "editable": false,
    "nbgrader": {
     "cell_type": "markdown",
     "checksum": "ed6fcd6187228c7f528a5960d06c52ea",
     "grade": false,
     "grade_id": "cell-93fcc7bcfc0f5149",
     "locked": true,
     "schema_version": 3,
     "solution": false,
     "task": false
    }
   },
   "source": [
    "## Belief State Value"
   ]
  },
  {
   "cell_type": "markdown",
   "metadata": {
    "deletable": false,
    "editable": false,
    "nbgrader": {
     "cell_type": "markdown",
     "checksum": "387a83551387813f35c00f69b2c1eef5",
     "grade": false,
     "grade_id": "cell-aabf8cb617860d28",
     "locked": true,
     "schema_version": 3,
     "solution": false,
     "task": false
    }
   },
   "source": [
    "The belief state is updated using Bayes' rule:\n",
    "\n",
    "$$b'(s')= O(o\\mid s')\\sum _{{s\\in S}}T(s'\\mid s,a)b(s)$$"
   ]
  },
  {
   "cell_type": "markdown",
   "metadata": {
    "deletable": false,
    "editable": false,
    "nbgrader": {
     "cell_type": "markdown",
     "checksum": "6b00ca0b8de7db07cd9f6b67547b0658",
     "grade": false,
     "grade_id": "cell-51ea83aba450213c",
     "locked": true,
     "schema_version": 3,
     "solution": false,
     "task": false
    }
   },
   "source": [
    "We first implement a method to update a belief state $b(s)$ given an action $a$ and observation $o$.\n",
    "\n",
    "> Hint: You can use functions from the numpy library to normalize an array."
   ]
  },
  {
   "cell_type": "code",
   "execution_count": null,
   "metadata": {
    "deletable": false,
    "nbgrader": {
     "cell_type": "code",
     "checksum": "919c4a1b9f436ea821621a733deb0d45",
     "grade": false,
     "grade_id": "cell-d18090cb991c7af9",
     "locked": false,
     "schema_version": 3,
     "solution": true,
     "task": false
    }
   },
   "outputs": [],
   "source": [
    "def update_belief(belief, action, observation):\n",
    "    # create a copy for the new updated belief state array\n",
    "    updated_belief = np.zeros_like(belief)\n",
    "    \n",
    "    for _s in S: # states\n",
    "        \n",
    "        weighted_probabilities = 0\n",
    "        \n",
    "        # Use bayes rule to calculate `weighted_probabilities`\n",
    "        # your code here\n",
    "        \n",
    "        \n",
    "        updated_belief[_s] = O[observation, _s] * weighted_probabilities\n",
    "    \n",
    "    # normalize updated belief state values to turn them into probabilities\n",
    "    # your code here\n",
    "    \n",
    "    \n",
    "    return updated_belief"
   ]
  },
  {
   "cell_type": "markdown",
   "metadata": {
    "deletable": false,
    "editable": false,
    "nbgrader": {
     "cell_type": "markdown",
     "checksum": "3f7f01865ef0518a299a2b448aa20773",
     "grade": false,
     "grade_id": "cell-94a8ed9c29e0648c",
     "locked": true,
     "schema_version": 3,
     "solution": false,
     "task": false
    }
   },
   "source": [
    "Let's test the above function."
   ]
  },
  {
   "cell_type": "code",
   "execution_count": null,
   "metadata": {
    "deletable": false,
    "editable": false,
    "nbgrader": {
     "cell_type": "code",
     "checksum": "d4cfa116b902faa8f29121a4d3e6bc2d",
     "grade": true,
     "grade_id": "cell-6c3777227685d110",
     "locked": true,
     "points": 10,
     "schema_version": 3,
     "solution": false,
     "task": false
    }
   },
   "outputs": [],
   "source": [
    "B = np.ones(3)/3\n",
    "action = 0      # move left\n",
    "observation = 1 # wall\n",
    "\n",
    "B_ = update_belief(B, action, observation)\n",
    "assert not np.allclose(B_, B), \"Are not updating the belief state at all?\"\n",
    "assert np.allclose(B_, np.array([0.8, 0, 0.2])), \"Are not updating the belief state correctly?\""
   ]
  },
  {
   "cell_type": "code",
   "execution_count": null,
   "metadata": {
    "deletable": false,
    "editable": false,
    "nbgrader": {
     "cell_type": "code",
     "checksum": "c624f05f748e5cdbf9fcd9899ce0acae",
     "grade": true,
     "grade_id": "cell-80183e4acbd91a9a",
     "locked": true,
     "points": 10,
     "schema_version": 3,
     "solution": false,
     "task": false
    }
   },
   "outputs": [],
   "source": [
    "# hidden test cases"
   ]
  },
  {
   "cell_type": "markdown",
   "metadata": {
    "deletable": false,
    "editable": false,
    "nbgrader": {
     "cell_type": "markdown",
     "checksum": "18c26f614afa6fe0e3b760343297cc1c",
     "grade": false,
     "grade_id": "cell-274e80da6a4f669d",
     "locked": true,
     "schema_version": 3,
     "solution": false,
     "task": false
    }
   },
   "source": [
    "## Belief Transition Function\n",
    "\n",
    "Given that the agent does not knows its current state, one cannot use a deterministic transition function for state-action transitions. Instead, POMDPs have a belief transition function $\\tau$\n",
    "\n",
    "$$\\tau(b,a,b') = \\sum_{s'} O(o | s') \\sum_{s}  T(s'|s,a) b(s)$$\n",
    "\n",
    "Simply put, for each observation $o$, $\\tau$ is the result of summing over \"unnormalized\" belief states.\n",
    "\n",
    "> Hint: Try breaking the sum into individual steps."
   ]
  },
  {
   "cell_type": "code",
   "execution_count": null,
   "metadata": {
    "deletable": false,
    "nbgrader": {
     "cell_type": "code",
     "checksum": "6e38f4e13f89e8fe883897da03fb2e97",
     "grade": false,
     "grade_id": "cell-dbfa9fc4c9970b02",
     "locked": false,
     "schema_version": 3,
     "solution": true,
     "task": false
    }
   },
   "outputs": [],
   "source": [
    "def belief_transition(belief, action, observation):\n",
    "    p = 0\n",
    "    o = observation\n",
    "    \n",
    "    for _s in S:\n",
    "        # Compute the total sum\n",
    "        # your code here\n",
    "        \n",
    "    \n",
    "    return p"
   ]
  },
  {
   "cell_type": "code",
   "execution_count": null,
   "metadata": {
    "deletable": false,
    "editable": false,
    "nbgrader": {
     "cell_type": "code",
     "checksum": "8400bc2b6ce83d00009b12aad35305d0",
     "grade": true,
     "grade_id": "cell-a516998d7aed04b1",
     "locked": true,
     "points": 10,
     "schema_version": 3,
     "solution": false,
     "task": false
    }
   },
   "outputs": [],
   "source": [
    "B = np.ones(3)/3\n",
    "action = 0      # move left\n",
    "observation = 1 # observe wall\n",
    "t = belief_transition(B, action, observation)\n",
    "assert abs(t - 1/3) < 1e-2, \"Belief Transition incorrect when moving left and observing wall. Try breaking the sum into individual steps.\""
   ]
  },
  {
   "cell_type": "code",
   "execution_count": null,
   "metadata": {
    "deletable": false,
    "editable": false,
    "nbgrader": {
     "cell_type": "code",
     "checksum": "42e0eccdf7531d3599f06dd0468505ce",
     "grade": true,
     "grade_id": "cell-13321e8d52c352a3",
     "locked": true,
     "points": 15,
     "schema_version": 3,
     "solution": false,
     "task": false
    }
   },
   "outputs": [],
   "source": [
    "# hidden test cases"
   ]
  },
  {
   "cell_type": "code",
   "execution_count": null,
   "metadata": {
    "deletable": false,
    "editable": false,
    "nbgrader": {
     "cell_type": "code",
     "checksum": "214cd9208d6201af7687d57137dfa864",
     "grade": true,
     "grade_id": "cell-a59ff8206790de2b",
     "locked": true,
     "points": 15,
     "schema_version": 3,
     "solution": false,
     "task": false
    }
   },
   "outputs": [],
   "source": [
    "# hidden test cases\n"
   ]
  },
  {
   "cell_type": "code",
   "execution_count": null,
   "metadata": {},
   "outputs": [],
   "source": []
  }
 ],
 "metadata": {
  "kernelspec": {
   "display_name": "Python 3",
   "language": "python",
   "name": "python3"
  },
  "language_info": {
   "codemirror_mode": {
    "name": "ipython",
    "version": 3
   },
   "file_extension": ".py",
   "mimetype": "text/x-python",
   "name": "python",
   "nbconvert_exporter": "python",
   "pygments_lexer": "ipython3",
   "version": "3.7.6"
  }
 },
 "nbformat": 4,
 "nbformat_minor": 4
}
