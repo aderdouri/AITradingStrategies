{
 "cells": [
  {
   "cell_type": "markdown",
   "metadata": {
    "deletable": false,
    "editable": false,
    "nbgrader": {
     "cell_type": "markdown",
     "checksum": "fbc3f90d37e8ee3ebe57b080029176f2",
     "grade": false,
     "grade_id": "cell-c4715e51968877b5",
     "locked": true,
     "schema_version": 3,
     "solution": false,
     "task": false
    }
   },
   "source": [
    "# Monte Carlo Methods\n",
    "\n",
    "In this assignment, we implement first-visit MC prediction for a given policy and also epsilon-greedy MC control for learning policies.\n",
    "\n",
    "In terms of reinforcement learning, a Monte Carlo (MC) method samples experiences/episodes and updates some metrics (say state value) for different states and actions."
   ]
  },
  {
   "cell_type": "markdown",
   "metadata": {
    "deletable": false,
    "editable": false,
    "nbgrader": {
     "cell_type": "markdown",
     "checksum": "d4ff0c72944f9d7678fb4f72b7026b0d",
     "grade": false,
     "grade_id": "cell-19311e6a014e86c2",
     "locked": true,
     "schema_version": 3,
     "solution": false,
     "task": false
    }
   },
   "source": [
    "## First Visit MC Prediction\n",
    "\n",
    "In order to estimate state values for a fixed policy $\\pi$, each state value $V^\\pi(s)$ is estimated using a MC method. The basic idea is as follows: \n",
    "- Sample a finite-horizon episode $E$\n",
    "- For each state $s \\in S$, estimate $V^\\pi(s)$ after first visit to state within episode\n",
    "\n",
    "An episode $E$ looks like $s_0, a_0, r_1, s_1, a_1, r_2, ... , s_{T−1}, a_{T−1}, r_T$. That is, taking action $a_i$ in state $s_i$ results in reward $r_{i+1}$. Note that the episode terminates at state $s_{T−1}$."
   ]
  },
  {
   "attachments": {
    "image.png": {
     "image/png": "[encoded data removed]"
    }
   },
   "cell_type": "markdown",
   "metadata": {
    "deletable": false,
    "editable": false,
    "nbgrader": {
     "cell_type": "markdown",
     "checksum": "ddb42e9d1689a202d77fb038e15c00df",
     "grade": false,
     "grade_id": "cell-e14cb3b8a6322e68",
     "locked": true,
     "schema_version": 3,
     "solution": false,
     "task": false
    }
   },
   "source": [
    "![image.png](attachment:image.png)"
   ]
  },
  {
   "cell_type": "markdown",
   "metadata": {
    "deletable": false,
    "editable": false,
    "nbgrader": {
     "cell_type": "markdown",
     "checksum": "6052274f9b8715ca623e9f316817a14b",
     "grade": false,
     "grade_id": "cell-7ea529c2686c9c56",
     "locked": true,
     "schema_version": 3,
     "solution": false,
     "task": false
    }
   },
   "source": [
    "Let us consider the mini-gridworld example again. Consider a grid with \n",
    "- Three states $S$: A, B, C\n",
    "- Reward for entering each states as +3, -2, +1, respectively\n",
    "\n",
    "For each state $s$ in $E$, we\n",
    "- Calculate average discounted return $G$ following the first occurence of $s$: $G \\gets \\sum \\gamma^i r_{i+1}$\n",
    "- Update $V^\\pi(s)$ using $G$\n",
    "\n",
    "#### Note: Please do not modify any pre-defined variables. Doing so can affect the autograder results."
   ]
  },
  {
   "cell_type": "code",
   "execution_count": null,
   "metadata": {
    "deletable": false,
    "editable": false,
    "nbgrader": {
     "cell_type": "code",
     "checksum": "02d7d0541555aa06f754fd96d909be55",
     "grade": false,
     "grade_id": "cell-d1f3d71f18b220d8",
     "locked": true,
     "schema_version": 3,
     "solution": false,
     "task": false
    }
   },
   "outputs": [],
   "source": [
    "# problem constants\n",
    "\n",
    "S = ['A', 'B', 'C']\n",
    "discount = 0.8 # gamma/discount\n",
    "\n",
    "episodes = [\n",
    "    ['A', 3, 'A', -2,'B', 1, 'C', -2, 'B', 3],\n",
    "    ['A', -2, 'B', 3, 'A', -2,'B', 1, 'C', -2],\n",
    "    ['C', 1, 'C', -2,'B', 3, 'A', -2,'B', 3]\n",
    "]"
   ]
  },
  {
   "cell_type": "code",
   "execution_count": null,
   "metadata": {
    "deletable": false,
    "editable": false,
    "nbgrader": {
     "cell_type": "code",
     "checksum": "04d8ff636b10bdae43010dbd7d7b42d6",
     "grade": false,
     "grade_id": "cell-7562ce5c7873921b",
     "locked": true,
     "schema_version": 3,
     "solution": false,
     "task": false
    }
   },
   "outputs": [],
   "source": [
    "# helper method to check if value a is approximately equal to b\n",
    "def isclose(a, b):\n",
    "    return abs(a-b) < 1e-2"
   ]
  },
  {
   "cell_type": "markdown",
   "metadata": {
    "deletable": false,
    "editable": false,
    "nbgrader": {
     "cell_type": "markdown",
     "checksum": "0d5082d0326fac84e04437ab98f4c70b",
     "grade": false,
     "grade_id": "cell-042ea04146c00e31",
     "locked": true,
     "schema_version": 3,
     "solution": false,
     "task": false
    }
   },
   "source": [
    "First we implement a helper method to find $G$, the discounted future return given an episode."
   ]
  },
  {
   "cell_type": "code",
   "execution_count": null,
   "metadata": {
    "deletable": false,
    "nbgrader": {
     "cell_type": "code",
     "checksum": "0cc936ce4e2a2f2a8f376f9eed5b622f",
     "grade": false,
     "grade_id": "cell-a89682f22c259fe2",
     "locked": false,
     "schema_version": 3,
     "solution": true,
     "task": false
    }
   },
   "outputs": [],
   "source": [
    "def discounted_return(state, episode):\n",
    "    G = 0\n",
    "    \n",
    "    started_adding = False\n",
    "    current_discount = 1\n",
    "    \n",
    "    for e in episode:\n",
    "        if e == state and not started_adding:\n",
    "            started_adding = True\n",
    "        \n",
    "        if e not in S and started_adding:\n",
    "            # e is a reward\n",
    "            \n",
    "            # update G here\n",
    "            # your code here\n",
    "            \n",
    "            \n",
    "            # update current_discount\n",
    "            # your code here\n",
    "            \n",
    "    \n",
    "    return G"
   ]
  },
  {
   "cell_type": "markdown",
   "metadata": {
    "deletable": false,
    "editable": false,
    "nbgrader": {
     "cell_type": "markdown",
     "checksum": "efc6797f8d581b00fd94f0bd846e3178",
     "grade": false,
     "grade_id": "cell-fc1783e92943b36a",
     "locked": true,
     "schema_version": 3,
     "solution": false,
     "task": false
    }
   },
   "source": [
    "Let's do a basic check before proceeding into MC prediction."
   ]
  },
  {
   "cell_type": "code",
   "execution_count": null,
   "metadata": {
    "deletable": false,
    "editable": false,
    "nbgrader": {
     "cell_type": "code",
     "checksum": "3d3b986bf6f1338769d084899dd35430",
     "grade": true,
     "grade_id": "cell-ef8fe9b53c3e5cef",
     "locked": true,
     "points": 10,
     "schema_version": 3,
     "solution": false,
     "task": false
    }
   },
   "outputs": [],
   "source": [
    "assert isclose(discounted_return('A', episodes[0]), 2.244)\n",
    "assert isclose(discounted_return('B', episodes[0]), 1.32)\n",
    "assert isclose(discounted_return('C', episodes[0]), 0.4)"
   ]
  },
  {
   "cell_type": "markdown",
   "metadata": {
    "deletable": false,
    "editable": false,
    "nbgrader": {
     "cell_type": "markdown",
     "checksum": "c4bcc8f137980373410c8677d1682272",
     "grade": false,
     "grade_id": "cell-f2ca3513bc5be818",
     "locked": true,
     "schema_version": 3,
     "solution": false,
     "task": false
    }
   },
   "source": [
    "Now we use the discounted returns to estimate state values."
   ]
  },
  {
   "cell_type": "code",
   "execution_count": null,
   "metadata": {
    "deletable": false,
    "nbgrader": {
     "cell_type": "code",
     "checksum": "38586c87ab70bbeed37b5564541c59a7",
     "grade": false,
     "grade_id": "cell-7e886196f7eca6a9",
     "locked": false,
     "schema_version": 3,
     "solution": true,
     "task": false
    }
   },
   "outputs": [],
   "source": [
    "def value_estimation(episodes):\n",
    "    V = {\n",
    "        'A': 0,\n",
    "        'B': 0,\n",
    "        'C': 0,\n",
    "    }\n",
    "    \n",
    "    for s in S:\n",
    "        Gs = []\n",
    "        \n",
    "        for e in episodes:\n",
    "            G = None\n",
    "            \n",
    "            # use the method defined above to find G\n",
    "            # your code here\n",
    "            \n",
    "            \n",
    "            Gs.append(G)\n",
    "            \n",
    "        # take an average of discounted return of all the episodes\n",
    "        V[s] = None\n",
    "        \n",
    "        # your code here\n",
    "        \n",
    "    \n",
    "    return V"
   ]
  },
  {
   "cell_type": "code",
   "execution_count": null,
   "metadata": {
    "deletable": false,
    "editable": false,
    "nbgrader": {
     "cell_type": "code",
     "checksum": "29daef88c822215b1cb2975bc836fd59",
     "grade": true,
     "grade_id": "cell-d8701f940356ff18",
     "locked": true,
     "points": 10,
     "schema_version": 3,
     "solution": false,
     "task": false
    }
   },
   "outputs": [],
   "source": [
    "V = value_estimation(episodes)\n",
    "assert isclose(V['A'], 0.48)\n",
    "assert isclose(V['B'], 1.89)\n",
    "assert isclose(V['C'], -0.03)"
   ]
  },
  {
   "cell_type": "code",
   "execution_count": null,
   "metadata": {
    "deletable": false,
    "editable": false,
    "nbgrader": {
     "cell_type": "code",
     "checksum": "7f8c3efa5e664f833af2d345d1dcdfdc",
     "grade": true,
     "grade_id": "cell-5e8963e21e4d4cc4",
     "locked": true,
     "points": 10,
     "schema_version": 3,
     "solution": false,
     "task": false
    }
   },
   "outputs": [],
   "source": [
    "# hidden tests"
   ]
  },
  {
   "cell_type": "code",
   "execution_count": null,
   "metadata": {
    "deletable": false,
    "editable": false,
    "nbgrader": {
     "cell_type": "code",
     "checksum": "732fa60bccea4d10fa49fcbc8c8f96b4",
     "grade": true,
     "grade_id": "cell-184f91a3143b6a2d",
     "locked": true,
     "points": 10,
     "schema_version": 3,
     "solution": false,
     "task": false
    }
   },
   "outputs": [],
   "source": [
    "# hidden tests"
   ]
  },
  {
   "cell_type": "code",
   "execution_count": null,
   "metadata": {},
   "outputs": [],
   "source": []
  }
 ],
 "metadata": {
  "kernelspec": {
   "display_name": "Python 3",
   "language": "python",
   "name": "python3"
  },
  "language_info": {
   "codemirror_mode": {
    "name": "ipython",
    "version": 3
   },
   "file_extension": ".py",
   "mimetype": "text/x-python",
   "name": "python",
   "nbconvert_exporter": "python",
   "pygments_lexer": "ipython3",
   "version": "3.7.6"
  }
 },
 "nbformat": 4,
 "nbformat_minor": 4
}
