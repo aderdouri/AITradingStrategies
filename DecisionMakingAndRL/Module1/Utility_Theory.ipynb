{
 "cells": [
  {
   "cell_type": "markdown",
   "metadata": {
    "deletable": false,
    "editable": false,
    "nbgrader": {
     "cell_type": "markdown",
     "checksum": "5ead086ceb074326bb9fdbef8319ce8f",
     "grade": false,
     "grade_id": "cell-00d16ee20185eb9d",
     "locked": true,
     "schema_version": 3,
     "solution": false,
     "task": false
    }
   },
   "source": [
    "### Utility Theory\n",
    "\n",
    "In this assignment, we will learn how to maximize game utility and choose actions based on utility values.\n",
    "\n",
    "Consider a set of actions among which an RL agent can choose. In a deterministic scenario, each action is associated with a reward or utility $U$ and may transition into a next state. \n",
    "\n",
    "In a probabilistic case, we are interested in the expected utility $EU$ of an action $a$ that takes us from a given state $s$ to a state $s'$. We compute the expected utility $EU(a)$ of the action $a$ as the weighted average utility of resultant states.\n",
    "\n",
    "$$EU(a) = \\sum_{s'} Pr(s') U(s')$$\n",
    "\n",
    "The action $a^* = \\text{argmax}_{a} EU(a)$ maximizes the expected utility.\n",
    "\n",
    "\n",
    "We will implement a simple method to get $EU(a)$ for an arbitrary set of utility values. Let us consider the mini-gridworld example. Consider a grid with \n",
    "- Three states $S$: A, B, C\n",
    "- Utility of each state being +3, -2, +1 respectively\n",
    "- Actions $A$: L and R for moving left and right respectively\n",
    "- Agent starting at state $B$\n",
    "- Agent moving in the chosen direction with a probability of 0.7, in the opposite direction with a probability of 0.2, and not moving at all with a probability of 0.1\n",
    "\n",
    "Assume there is no wall around the grid. That is, the agent can move out of the grid with zero utility gain.\n",
    "\n",
    "#### Note 1: Please do not modify any pre-defined variables. Doing so can affect the autograder results.\n",
    "#### Note 2: Make sure your solution generalizes to different values of Utilities (U)"
   ]
  },
  {
   "attachments": {
    "image.png": {
     "image/png": "[encoded data removed]"
    }
   },
   "cell_type": "markdown",
   "metadata": {
    "deletable": false,
    "editable": false,
    "nbgrader": {
     "cell_type": "markdown",
     "checksum": "cb5b95bb4edf4bf8cdaae5c5cacef947",
     "grade": false,
     "grade_id": "cell-9e0c421130cbfd5a",
     "locked": true,
     "schema_version": 3,
     "solution": false,
     "task": false
    }
   },
   "source": [
    "![image.png](attachment:image.png)"
   ]
  },
  {
   "cell_type": "code",
   "execution_count": null,
   "metadata": {
    "deletable": false,
    "editable": false,
    "nbgrader": {
     "cell_type": "code",
     "checksum": "46d278191f46844a3c92d69aa2db4bbe",
     "grade": false,
     "grade_id": "cell-336c4bc4b0b59898",
     "locked": true,
     "schema_version": 3,
     "solution": false,
     "task": false
    }
   },
   "outputs": [],
   "source": [
    "# required constants\n",
    "\n",
    "S = [0, 1, 2] # shorthand for A, B, C\n",
    "A = [-1, 1]   # shorthand for L, R\n",
    "U = [3, -2, 1]# utility for each state "
   ]
  },
  {
   "cell_type": "markdown",
   "metadata": {
    "deletable": false,
    "editable": false,
    "nbgrader": {
     "cell_type": "markdown",
     "checksum": "8f330b81ebcd13fefc6451718df6e794",
     "grade": false,
     "grade_id": "cell-98abab02af871b37",
     "locked": true,
     "schema_version": 3,
     "solution": false,
     "task": false
    }
   },
   "source": [
    "Compute the expected utility given an action and evidence for cell B.\n",
    "\n",
    "HINT: Use the previous formula."
   ]
  },
  {
   "cell_type": "code",
   "execution_count": null,
   "metadata": {
    "deletable": false,
    "nbgrader": {
     "cell_type": "code",
     "checksum": "c646919dc71e67e1a3c21890870dfc17",
     "grade": false,
     "grade_id": "cell-4c3c5894ac3d4409",
     "locked": false,
     "schema_version": 3,
     "solution": true,
     "task": false
    }
   },
   "outputs": [],
   "source": [
    "def get_expected_utility(action, state):\n",
    "    EU = 0.0\n",
    "    \n",
    "    # your code here\n",
    "    \n",
    "\n",
    "    return EU"
   ]
  },
  {
   "cell_type": "markdown",
   "metadata": {
    "deletable": false,
    "editable": false,
    "nbgrader": {
     "cell_type": "markdown",
     "checksum": "39462f1f16ec7b5a92988de8b01634e6",
     "grade": false,
     "grade_id": "cell-4b1cc9f8dc79202a",
     "locked": true,
     "schema_version": 3,
     "solution": false,
     "task": false
    }
   },
   "source": [
    "Let's do a sanity check before proceeding."
   ]
  },
  {
   "cell_type": "code",
   "execution_count": null,
   "metadata": {
    "deletable": false,
    "editable": false,
    "nbgrader": {
     "cell_type": "code",
     "checksum": "2e926b68c38cec32a4ef917fc275e633",
     "grade": true,
     "grade_id": "cell-898cb653c8b9283c",
     "locked": true,
     "points": 5,
     "schema_version": 3,
     "solution": false,
     "task": false
    }
   },
   "outputs": [],
   "source": [
    "assert abs(2.1 - get_expected_utility(-1, 'B')) < 1e-3, \"If this fails, try to find the utility of moving left from state B by hand\""
   ]
  },
  {
   "cell_type": "markdown",
   "metadata": {
    "deletable": false,
    "editable": false,
    "nbgrader": {
     "cell_type": "markdown",
     "checksum": "bd0cfe013543b94485bb51b155642f4f",
     "grade": false,
     "grade_id": "cell-22aa37b1ab01c277",
     "locked": true,
     "schema_version": 3,
     "solution": false,
     "task": false
    }
   },
   "source": [
    "Equipped with the method, find the action that returns the maximum expected utility."
   ]
  },
  {
   "cell_type": "code",
   "execution_count": null,
   "metadata": {
    "deletable": false,
    "nbgrader": {
     "cell_type": "code",
     "checksum": "a262301c767d06bf8579d9458af3b5a0",
     "grade": false,
     "grade_id": "cell-c49974f89f2682c8",
     "locked": false,
     "schema_version": 3,
     "solution": true,
     "task": false
    }
   },
   "outputs": [],
   "source": [
    "def get_best_action(state):\n",
    "    \"\"\"\n",
    "    return: action -1 or 1, left or right\n",
    "    \"\"\"\n",
    "    action = None\n",
    "    \n",
    "    # your code here\n",
    "    \n",
    "\n",
    "    return action"
   ]
  },
  {
   "cell_type": "markdown",
   "metadata": {
    "deletable": false,
    "editable": false,
    "nbgrader": {
     "cell_type": "markdown",
     "checksum": "eec092d9b0dc1b47aa23e684ee775a3c",
     "grade": false,
     "grade_id": "cell-f0b450bd823ad560",
     "locked": true,
     "schema_version": 3,
     "solution": false,
     "task": false
    }
   },
   "source": [
    "And let's test this again."
   ]
  },
  {
   "cell_type": "code",
   "execution_count": null,
   "metadata": {
    "deletable": false,
    "editable": false,
    "nbgrader": {
     "cell_type": "code",
     "checksum": "c4df8793464a104be7d0c83c69555d81",
     "grade": true,
     "grade_id": "cell-2b6a1fec50d4e8f6",
     "locked": true,
     "points": 5,
     "schema_version": 3,
     "solution": false,
     "task": false
    }
   },
   "outputs": [],
   "source": [
    "assert get_best_action('B') == -1, \"You can either move left or right. If minigrid was deterministic, what will a rational agent choose?\"\n",
    "assert get_best_action('C') == 1"
   ]
  },
  {
   "cell_type": "code",
   "execution_count": null,
   "metadata": {
    "deletable": false,
    "editable": false,
    "nbgrader": {
     "cell_type": "code",
     "checksum": "6022f00b46f454e228dfadee1360ba9c",
     "grade": true,
     "grade_id": "cell-7cfc82670e420c01",
     "locked": true,
     "points": 5,
     "schema_version": 3,
     "solution": false,
     "task": false
    }
   },
   "outputs": [],
   "source": [
    "# this cell contains hidden tests\n"
   ]
  },
  {
   "cell_type": "code",
   "execution_count": null,
   "metadata": {},
   "outputs": [],
   "source": []
  },
  {
   "cell_type": "code",
   "execution_count": null,
   "metadata": {},
   "outputs": [],
   "source": []
  }
 ],
 "metadata": {
  "kernelspec": {
   "display_name": "Python 3",
   "language": "python",
   "name": "python3"
  },
  "language_info": {
   "codemirror_mode": {
    "name": "ipython",
    "version": 3
   },
   "file_extension": ".py",
   "mimetype": "text/x-python",
   "name": "python",
   "nbconvert_exporter": "python",
   "pygments_lexer": "ipython3",
   "version": "3.7.6"
  }
 },
 "nbformat": 4,
 "nbformat_minor": 4
}
