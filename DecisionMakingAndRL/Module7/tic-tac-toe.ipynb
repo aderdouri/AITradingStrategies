{
 "cells": [
  {
   "cell_type": "markdown",
   "metadata": {
    "deletable": false,
    "editable": false,
    "nbgrader": {
     "cell_type": "markdown",
     "checksum": "fa044cd75c478fac549588fa2ccb0636",
     "grade": false,
     "grade_id": "cell-14792551ec2a3962",
     "locked": true,
     "schema_version": 3,
     "solution": false,
     "task": false
    }
   },
   "source": [
    "### TIC-TAC-TOE with Reinforcement Learning"
   ]
  },
  {
   "attachments": {
    "Tic-tac-toe-game-1%201.svg": {
     "image/svg+xml": [
      "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"
     ]
    }
   },
   "cell_type": "markdown",
   "metadata": {
    "deletable": false,
    "editable": false,
    "nbgrader": {
     "cell_type": "markdown",
     "checksum": "fecf2047234a750177928bac94103483",
     "grade": false,
     "grade_id": "cell-b56d4f621f0f56dc",
     "locked": true,
     "schema_version": 3,
     "solution": false,
     "task": false
    }
   },
   "source": [
    "### What is tic-tac-toe?\n",
    "\n",
    "The objective of Tic-Tac-Toe is to be the first to place their marks (either cross or naughts) in a horizontal, vertical, or diagonal arrangement. The important factors are :\n",
    "\n",
    "![Tic-tac-toe-game-1%201.svg](attachment:Tic-tac-toe-game-1%201.svg)\n",
    "\n",
    "- Agents involve 2 Tic-Tac-Toe players who attempt to outwit each other by taking a turn to place their mark\n",
    "- Reward refers to an arbitrary value earned by the winning agent\n",
    "- Actions dictate that each agent is allowed to place their corresponding mark only in an empty box\n",
    "\n",
    "The state is the configuration of the tic-tac-toe board after each turn until the game ends in either a win or a draw.\n"
   ]
  },
  {
   "cell_type": "markdown",
   "metadata": {
    "deletable": false,
    "editable": false,
    "nbgrader": {
     "cell_type": "markdown",
     "checksum": "f663eb578f3558e2e69956a62c5dcd0b",
     "grade": false,
     "grade_id": "cell-2de104a5adb42c23",
     "locked": true,
     "schema_version": 3,
     "solution": false,
     "task": false
    }
   },
   "source": [
    "## Assignment \n",
    "\n",
    "In this assignment, you will\n",
    "\n",
    "- Become familiar with `tictactoe` class\n",
    "- Train two RL agents to play against each other\n",
    "\n",
    "#### Note: Please do not modify any pre-defined variables. Doing so can affect the autograder results."
   ]
  },
  {
   "cell_type": "code",
   "execution_count": null,
   "metadata": {
    "deletable": false,
    "editable": false,
    "nbgrader": {
     "cell_type": "code",
     "checksum": "c91cbd2b3c2d90773c4d40d796889a6c",
     "grade": false,
     "grade_id": "cell-e28772c7451a590e",
     "locked": true,
     "schema_version": 3,
     "solution": false,
     "task": false
    }
   },
   "outputs": [],
   "source": [
    "# required imports\n",
    "import argparse\n",
    "import os\n",
    "import pickle\n",
    "import sys\n",
    "import numpy as np\n",
    " \n",
    "from tictactoe.agent import NoLearner, BaseLearner\n",
    "from tictactoe.teacher import Teacher\n",
    "from tictactoe.game import Game, plot_agent_reward"
   ]
  },
  {
   "cell_type": "markdown",
   "metadata": {
    "deletable": false,
    "editable": false,
    "nbgrader": {
     "cell_type": "markdown",
     "checksum": "b41dab163eec7d1c91ea62676b167040",
     "grade": false,
     "grade_id": "cell-bcb7302e70175975",
     "locked": true,
     "schema_version": 3,
     "solution": false,
     "task": false
    }
   },
   "source": [
    "We initialize the board parmeters for a 3x3 board. An example configuration is as follows:\n",
    "\n",
    "        o | x | o \n",
    "        x | o |  \n",
    "        x | o | x\n",
    "        \n",
    "In the above example, nobody wins, since neither player has three marks in a row."
   ]
  },
  {
   "cell_type": "markdown",
   "metadata": {
    "deletable": false,
    "editable": false,
    "nbgrader": {
     "cell_type": "markdown",
     "checksum": "e619901ed32fb92ab6c9a21d19e62d81",
     "grade": false,
     "grade_id": "cell-9380f31d2a88f203",
     "locked": true,
     "schema_version": 3,
     "solution": false,
     "task": false
    }
   },
   "source": [
    "A TicTacToe class has been initialized for you with several methods. You can try to play the game manually using `testing_manual_play`."
   ]
  },
  {
   "cell_type": "code",
   "execution_count": null,
   "metadata": {
    "deletable": false,
    "editable": false,
    "nbgrader": {
     "cell_type": "code",
     "checksum": "6bfbd1716c34bef35271523a00df2778",
     "grade": false,
     "grade_id": "cell-9fd46465d125a393",
     "locked": true,
     "schema_version": 3,
     "solution": false,
     "task": false
    }
   },
   "outputs": [],
   "source": [
    "class GameLearning(object):\n",
    "    \"\"\"\n",
    "    A class that holds the state of the learning process. Learning\n",
    "    agents are created/loaded here, and a count is kept of the\n",
    "    games that have been played.\n",
    "    \"\"\"\n",
    "    def __init__(self, agent_type=\"random\", alpha=0.5, gamma=0.9, epsilon=0.1):\n",
    "\n",
    "        if agent_type == \"random\":\n",
    "            self.agent = NoLearner()\n",
    "        elif agent_type == \"q\":\n",
    "            self.agent = Qlearner(alpha,gamma,epsilon)\n",
    "        else:\n",
    "            self.agent = SARSAlearner(alpha,gamma,epsilon)\n",
    "            \n",
    "        self.games_played = 0\n",
    "\n",
    "    def beginPlaying(self):\n",
    "        \"\"\" Loop through game iterations with a human player. \"\"\"\n",
    "        print(\"Welcome to Tic-Tac-Toe. You are 'X' and the computer is 'O'.\")\n",
    "\n",
    "        def play_again():\n",
    "            print(\"Games played: %i\" % self.games_played)\n",
    "            while True:\n",
    "                play = input(\"Do you want to play again? [y/n]: \")\n",
    "                if play == 'y' or play == 'yes':\n",
    "                    return True\n",
    "                elif play == 'n' or play == 'no':\n",
    "                    return False\n",
    "                else:\n",
    "                    print(\"Invalid input. Please choose 'y' or 'n'.\")\n",
    "\n",
    "        while True:\n",
    "            game = Game(self.agent)\n",
    "            game.start()\n",
    "            self.games_played += 1\n",
    "            if not play_again():\n",
    "                print(\"OK. Quitting.\")\n",
    "                break\n",
    "\n",
    "    def beginTeaching(self, episodes):\n",
    "        \"\"\" Loop through game iterations with a teaching agent. \"\"\"\n",
    "        teacher = Teacher()\n",
    "        # Train for alotted number of episodes\n",
    "        while self.games_played < episodes:\n",
    "            game = Game(self.agent, teacher=teacher)\n",
    "            game.start()\n",
    "            self.games_played += 1\n",
    "            # Monitor progress\n",
    "            if self.games_played % 1000 == 0:\n",
    "                print(\"Games played: %i\" % self.games_played)\n"
   ]
  },
  {
   "cell_type": "code",
   "execution_count": null,
   "metadata": {
    "deletable": false,
    "editable": false,
    "nbgrader": {
     "cell_type": "code",
     "checksum": "834060aa30f337d08e9bd020b6bae315",
     "grade": false,
     "grade_id": "cell-c5a7870d5f52fcf7",
     "locked": true,
     "schema_version": 3,
     "solution": false,
     "task": false
    }
   },
   "outputs": [],
   "source": [
    "# try playing the game manually\n",
    "gl = GameLearning()\n",
    "gl.beginPlaying()"
   ]
  },
  {
   "cell_type": "markdown",
   "metadata": {
    "deletable": false,
    "editable": false,
    "nbgrader": {
     "cell_type": "markdown",
     "checksum": "e8ef581e3c3e56aab4b2ac59b139808f",
     "grade": false,
     "grade_id": "cell-ecf68f9ec0bb0ea9",
     "locked": true,
     "schema_version": 3,
     "solution": false,
     "task": false
    }
   },
   "source": [
    "Now that you are familiar with the interface, we will use some reinforcement learning algorithms to train an agent to win the game. \n",
    "\n",
    "First, we train Q-learning based agent that maintains and updates `Q` values for every cell in the board."
   ]
  },
  {
   "cell_type": "code",
   "execution_count": null,
   "metadata": {
    "deletable": false,
    "nbgrader": {
     "cell_type": "code",
     "checksum": "abe943fdb8d7ff7a88b80ec291cb6ccc",
     "grade": false,
     "grade_id": "cell-a152f69e4962e6fe",
     "locked": false,
     "schema_version": 3,
     "solution": true,
     "task": false
    }
   },
   "outputs": [],
   "source": [
    "class Qlearner(BaseLearner):\n",
    "    \"\"\"\n",
    "    A class to implement the Q-learning agent.\n",
    "    \"\"\"\n",
    "    def __init__(self, alpha, gamma, eps, eps_decay=0.):\n",
    "        super().__init__(alpha, gamma, eps, eps_decay)\n",
    "\n",
    "    def update(self, s, s_, a, a_, r):\n",
    "        \"\"\"\n",
    "        Perform the Q-Learning update of Q values.\n",
    "\n",
    "        Parameters\n",
    "        ----------\n",
    "        s : string\n",
    "            previous state\n",
    "        s_ : string\n",
    "            new state\n",
    "        a : (i,j) tuple\n",
    "            previous action\n",
    "        a_ : (i,j) tuple\n",
    "            new action. NOT used by Q-learner!\n",
    "        r : int\n",
    "            reward received after executing action \"a\" in state \"s\"\n",
    "        \"\"\"\n",
    "        # Update Q(s,a)\n",
    "        if s_ is not None:\n",
    "            # hold list of Q values for all a_,s_ pairs. We will access the max later\n",
    "            possible_actions = [action for action in self.actions if s_[action[0]*3 + action[1]] == '-']\n",
    "            Q_options = [self.Q[action][s_] for action in possible_actions]\n",
    "            \n",
    "            # update self.Q[a][s] using Q-learning update\n",
    "            # your code here\n",
    "            \n",
    "            \n",
    "        else:\n",
    "            # terminal state update\n",
    "            self.Q[a][s] += self.alpha*(r - self.Q[a][s])\n",
    "\n",
    "        # add r to rewards list\n",
    "        self.rewards.append(r)\n"
   ]
  },
  {
   "cell_type": "markdown",
   "metadata": {
    "deletable": false,
    "editable": false,
    "nbgrader": {
     "cell_type": "markdown",
     "checksum": "f602f1f98ff1552166ccc6b475334418",
     "grade": false,
     "grade_id": "cell-d4c62fd7e5e16fe2",
     "locked": true,
     "schema_version": 3,
     "solution": false,
     "task": false
    }
   },
   "source": [
    "Second, we train a SARSA based agent."
   ]
  },
  {
   "cell_type": "code",
   "execution_count": null,
   "metadata": {
    "deletable": false,
    "nbgrader": {
     "cell_type": "code",
     "checksum": "7213a9dea00aeab5064c10a18532b1a3",
     "grade": false,
     "grade_id": "cell-bfd4158a2582614e",
     "locked": false,
     "schema_version": 3,
     "solution": true,
     "task": false
    }
   },
   "outputs": [],
   "source": [
    "class SARSAlearner(BaseLearner):\n",
    "    \"\"\"\n",
    "    A class to implement the SARSA agent.\n",
    "    \"\"\"\n",
    "    def __init__(self, alpha, gamma, eps, eps_decay=0.):\n",
    "        super().__init__(alpha, gamma, eps, eps_decay)\n",
    "\n",
    "    def update(self, s, s_, a, a_, r):\n",
    "        \"\"\"\n",
    "        Perform the SARSA update of Q values.\n",
    "\n",
    "        Parameters\n",
    "        ----------\n",
    "        s : string\n",
    "            previous state\n",
    "        s_ : string\n",
    "            new state\n",
    "        a : (i,j) tuple\n",
    "            previous action\n",
    "        a_ : (i,j) tuple\n",
    "            new action\n",
    "        r : int\n",
    "            reward received after executing action \"a\" in state \"s\"\n",
    "        \"\"\"\n",
    "        if s_ is not None:\n",
    "            \n",
    "            # update self.Q[a][s] using SARSA update\n",
    "            # your code here\n",
    "            \n",
    "            \n",
    "        else:\n",
    "            # terminal state update\n",
    "            self.Q[a][s] += self.alpha*(r - self.Q[a][s])\n",
    "\n",
    "        # add r to rewards list\n",
    "        self.rewards.append(r)"
   ]
  },
  {
   "cell_type": "markdown",
   "metadata": {
    "deletable": false,
    "editable": false,
    "nbgrader": {
     "cell_type": "markdown",
     "checksum": "41382cc91f648c03d75bbdb3c7affe4a",
     "grade": false,
     "grade_id": "cell-d04ee77d56b81c1e",
     "locked": true,
     "schema_version": 3,
     "solution": false,
     "task": false
    }
   },
   "source": [
    "# Visualization\n",
    "\n",
    "Now that we've trained RL agents, we can compare their performance. We assume that a game loss results in a penalty of `-1`. "
   ]
  },
  {
   "cell_type": "code",
   "execution_count": null,
   "metadata": {
    "deletable": false,
    "editable": false,
    "nbgrader": {
     "cell_type": "code",
     "checksum": "e93df259233f063ba49c04b7667de385",
     "grade": false,
     "grade_id": "cell-f8dbcfce14dca478",
     "locked": true,
     "schema_version": 3,
     "solution": false,
     "task": false
    }
   },
   "outputs": [],
   "source": [
    "gl = GameLearning()\n",
    "gl.beginTeaching(1000)\n",
    "plot_agent_reward(gl.agent.rewards)"
   ]
  },
  {
   "cell_type": "code",
   "execution_count": null,
   "metadata": {
    "deletable": false,
    "editable": false,
    "nbgrader": {
     "cell_type": "code",
     "checksum": "e312671ec38d25895985e0ba81fde0e8",
     "grade": false,
     "grade_id": "cell-a8e83bf859435bf4",
     "locked": true,
     "schema_version": 3,
     "solution": false,
     "task": false
    }
   },
   "outputs": [],
   "source": [
    "gl = GameLearning(agent_type=\"q\")\n",
    "gl.beginTeaching(1000)\n",
    "plot_agent_reward(gl.agent.rewards)"
   ]
  },
  {
   "cell_type": "markdown",
   "metadata": {
    "deletable": false,
    "editable": false,
    "nbgrader": {
     "cell_type": "markdown",
     "checksum": "b5d63e5ee8405784f4d7e83855dcdd34",
     "grade": false,
     "grade_id": "cell-e1769567dc066e2c",
     "locked": true,
     "schema_version": 3,
     "solution": false,
     "task": false
    }
   },
   "source": [
    "Before proceeding, we check if Q-learning based agent performs any better than an agent that does not learns at all."
   ]
  },
  {
   "cell_type": "code",
   "execution_count": null,
   "metadata": {
    "deletable": false,
    "editable": false,
    "nbgrader": {
     "cell_type": "code",
     "checksum": "8a33f0d65efe3ca86dfc28ed6469ffb2",
     "grade": false,
     "grade_id": "cell-260f0ceaf5f260df",
     "locked": true,
     "schema_version": 3,
     "solution": false,
     "task": false
    }
   },
   "outputs": [],
   "source": [
    "gl_random = GameLearning(agent_type=\"random\")\n",
    "gl_random.beginTeaching(1000)\n",
    "gl_q = GameLearning(agent_type=\"q\")\n",
    "gl_q.beginTeaching(1000)"
   ]
  },
  {
   "cell_type": "code",
   "execution_count": null,
   "metadata": {
    "deletable": false,
    "editable": false,
    "nbgrader": {
     "cell_type": "code",
     "checksum": "9407776af26da9d9f1624ddac8eaaef9",
     "grade": true,
     "grade_id": "cell-02e8c291cba783ed",
     "locked": true,
     "points": 10,
     "schema_version": 3,
     "solution": false,
     "task": false
    }
   },
   "outputs": [],
   "source": [
    "last_50_random = np.cumsum(gl_random.agent.rewards)[-50:]\n",
    "last_50_q      = np.cumsum(gl_q.agent.rewards)[-50:]\n",
    "\n",
    "assert (last_50_random < last_50_q).all(), \"Check the rewards in Q-learning agent\""
   ]
  },
  {
   "cell_type": "markdown",
   "metadata": {
    "deletable": false,
    "editable": false,
    "nbgrader": {
     "cell_type": "markdown",
     "checksum": "1fec3bd3b2d97bff66f8ca1595c290a9",
     "grade": false,
     "grade_id": "cell-78ea2ed57df8f8f2",
     "locked": true,
     "schema_version": 3,
     "solution": false,
     "task": false
    }
   },
   "source": [
    "Similarly, we compare how SARSA peforms."
   ]
  },
  {
   "cell_type": "code",
   "execution_count": null,
   "metadata": {
    "deletable": false,
    "editable": false,
    "nbgrader": {
     "cell_type": "code",
     "checksum": "90bfae21bb18461598bfea52b5be4b34",
     "grade": false,
     "grade_id": "cell-b06ee4450fab3e58",
     "locked": true,
     "schema_version": 3,
     "solution": false,
     "task": false
    }
   },
   "outputs": [],
   "source": [
    "gl_sarsa = GameLearning(agent_type=\"sarsa\")\n",
    "gl_sarsa.beginTeaching(1000)\n",
    "plot_agent_reward(gl_sarsa.agent.rewards)"
   ]
  },
  {
   "cell_type": "code",
   "execution_count": null,
   "metadata": {
    "deletable": false,
    "editable": false,
    "nbgrader": {
     "cell_type": "code",
     "checksum": "937d74b744370d92258e75d378f768d0",
     "grade": true,
     "grade_id": "cell-6de47616937c5151",
     "locked": true,
     "points": 10,
     "schema_version": 3,
     "solution": false,
     "task": false
    }
   },
   "outputs": [],
   "source": [
    "last_50_sarsa = np.cumsum(gl_sarsa.agent.rewards)[-50:]\n",
    "assert (last_50_random < last_50_sarsa).all(), \"Check the rewards in Sarsa agent\""
   ]
  }
 ],
 "metadata": {
  "kernelspec": {
   "display_name": "Python 3",
   "language": "python",
   "name": "python3"
  },
  "language_info": {
   "codemirror_mode": {
    "name": "ipython",
    "version": 3
   },
   "file_extension": ".py",
   "mimetype": "text/x-python",
   "name": "python",
   "nbconvert_exporter": "python",
   "pygments_lexer": "ipython3",
   "version": "3.7.6"
  }
 },
 "nbformat": 4,
 "nbformat_minor": 4
}
