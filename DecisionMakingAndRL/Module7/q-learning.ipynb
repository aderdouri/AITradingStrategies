{
 "cells": [
  {
   "cell_type": "markdown",
   "metadata": {
    "deletable": false,
    "editable": false,
    "nbgrader": {
     "cell_type": "markdown",
     "checksum": "acb7a63298bd87d8f1e8ccfed34c5a6d",
     "grade": false,
     "grade_id": "cell-8a840ad39f55715f",
     "locked": true,
     "schema_version": 3,
     "solution": false,
     "task": false
    }
   },
   "source": [
    "## Q-Learning\n",
    "\n",
    "In this TD learning assignment, we are going to look at Q-learning, an off-policy TD learning method.\n",
    "The environment investigated here is the famous Taxi-v3 environment from OpenAI Gym.\n"
   ]
  },
  {
   "cell_type": "code",
   "execution_count": null,
   "metadata": {
    "deletable": false,
    "editable": false,
    "nbgrader": {
     "cell_type": "code",
     "checksum": "577aa841f686048d8a2a64322bec107b",
     "grade": false,
     "grade_id": "cell-1cea73a0def0310e",
     "locked": true,
     "schema_version": 3,
     "solution": false,
     "task": false
    }
   },
   "outputs": [],
   "source": [
    "###import the required modules\n",
    "\n",
    "import numpy as np\n",
    "import matplotlib.pyplot as plt\n",
    "from tqdm import tqdm\n",
    "np.random.seed(0)"
   ]
  },
  {
   "cell_type": "markdown",
   "metadata": {
    "deletable": false,
    "editable": false,
    "nbgrader": {
     "cell_type": "markdown",
     "checksum": "55af5e05399000b5ab73c3f34772aea4",
     "grade": false,
     "grade_id": "cell-7682a385fac9a82b",
     "locked": true,
     "schema_version": 3,
     "solution": false,
     "task": false
    }
   },
   "source": [
    "## Cliff walking problem\n",
    "\n",
    "- The cliff is a gridworld-type, undiscounted, episodic task, with start state `S` and goal state `G`. \n",
    "- There are four actions allowed: up, down, right, and left. \n",
    "- Action selection is $\\epsilon$-greedy; i.e., occasionally the agent will move in a random direction.\n",
    "- Reward is -1 on all transitions except those into the region marked 'The Cliff'. \n",
    "- Stepping into this region incurs a reward of -100 and sends the agent instantly back to `S`.\n",
    "\n",
    "Ideally, we would want to train an RL agent that learns the optimal policy and avoids traveling right along the cliff edge. In this and the next assignment, we compare how Q-Learning and SARSA fare with this task."
   ]
  },
  {
   "attachments": {
    "image.png": {
     "image/png": "[encoded data removed]"
    }
   },
   "cell_type": "markdown",
   "metadata": {
    "deletable": false,
    "editable": false,
    "nbgrader": {
     "cell_type": "markdown",
     "checksum": "c7cd5df7bc9e31ee504922f511726400",
     "grade": false,
     "grade_id": "cell-02f87ee7719981e1",
     "locked": true,
     "schema_version": 3,
     "solution": false,
     "task": false
    }
   },
   "source": [
    "![image.png](attachment:image.png)"
   ]
  },
  {
   "cell_type": "code",
   "execution_count": null,
   "metadata": {
    "deletable": false,
    "editable": false,
    "nbgrader": {
     "cell_type": "code",
     "checksum": "2461b99491cafd201038bd2adf2a3315",
     "grade": false,
     "grade_id": "cell-988aa5671838ecaf",
     "locked": true,
     "schema_version": 3,
     "solution": false,
     "task": false
    }
   },
   "outputs": [],
   "source": [
    "# grid world related constants\n",
    "GRID_HEIGHT = 4\n",
    "GRID_WIDTH = 12\n",
    "\n",
    "EPSILON = 0.1  # probability for exploration\n",
    "ALPHA = 0.5    # step size\n",
    "GAMMA = 1      # gamma for Q-Learning and SARSA\n",
    "\n",
    "UP = 0\n",
    "DOWN = 1\n",
    "LEFT = 2\n",
    "RIGHT = 3\n",
    "ACTIONS = [UP, DOWN, LEFT, RIGHT] # all possible actions\n",
    "\n",
    "# initial state action pair values\n",
    "START = [3, 0]\n",
    "GOAL = [3, 11]"
   ]
  },
  {
   "cell_type": "code",
   "execution_count": null,
   "metadata": {
    "deletable": false,
    "editable": false,
    "nbgrader": {
     "cell_type": "code",
     "checksum": "53bdddee93594540d384acc7ad3e7d70",
     "grade": false,
     "grade_id": "cell-ce1942efb4a8b19f",
     "locked": true,
     "schema_version": 3,
     "solution": false,
     "task": false
    }
   },
   "outputs": [],
   "source": [
    "# required helper methods\n",
    "def step(state, action):\n",
    "    i, j = state\n",
    "    if action == UP:\n",
    "        next_state = [max(i - 1, 0), j]\n",
    "    elif action == LEFT:\n",
    "        next_state = [i, max(j - 1, 0)]\n",
    "    elif action == RIGHT:\n",
    "        next_state = [i, min(j + 1, GRID_WIDTH - 1)]\n",
    "    elif action == DOWN:\n",
    "        next_state = [min(i + 1, GRID_HEIGHT - 1), j]\n",
    "    else:\n",
    "        assert False\n",
    "\n",
    "    reward = -1\n",
    "    if (action == DOWN and i == 2 and 1 <= j <= 10) or (\n",
    "        action == RIGHT and state == START):\n",
    "        reward = -100\n",
    "        next_state = START\n",
    "\n",
    "    return next_state, reward\n",
    "\n",
    "def epsilon_greedy(state, q_value):\n",
    "    if np.random.binomial(1, EPSILON) == 1:\n",
    "        return np.random.choice(ACTIONS)\n",
    "    else:\n",
    "        values_ = q_value[state[0], state[1], :]\n",
    "        return np.random.choice([action_ for action_, value_ in enumerate(values_) if value_ == np.max(values_)])"
   ]
  },
  {
   "cell_type": "markdown",
   "metadata": {
    "deletable": false,
    "editable": false,
    "nbgrader": {
     "cell_type": "markdown",
     "checksum": "28b622a21ad0332c31ea03f69cc40ec2",
     "grade": false,
     "grade_id": "cell-0e60d17badb9718c",
     "locked": true,
     "schema_version": 3,
     "solution": false,
     "task": false
    }
   },
   "source": [
    "Now we create a function that performs Q-Learning. It will do the following: \n",
    "\n",
    "- Update Q-values until episode convergence\n",
    "- Return total rewards within this episode"
   ]
  },
  {
   "cell_type": "code",
   "execution_count": null,
   "metadata": {
    "deletable": false,
    "nbgrader": {
     "cell_type": "code",
     "checksum": "d9876149b90c572347d878b174ab7e6a",
     "grade": false,
     "grade_id": "cell-d874319b6f71a7cc",
     "locked": false,
     "schema_version": 3,
     "solution": true,
     "task": false
    }
   },
   "outputs": [],
   "source": [
    "def q_learning(q_value):\n",
    "    state = START\n",
    "    rewards = 0.0\n",
    "    while state != GOAL:\n",
    "        action = epsilon_greedy(state, q_value)\n",
    "        next_state, reward = step(state, action)\n",
    "        rewards += reward\n",
    "        \n",
    "        # define target for Q-Learning\n",
    "        target = None\n",
    "        # your code here\n",
    "        \n",
    "        \n",
    "        # Q-Learning update\n",
    "        q_value[state[0], state[1], action] += ALPHA * (target - q_value[state[0], state[1], action])\n",
    "        state = next_state\n",
    "    return rewards"
   ]
  },
  {
   "cell_type": "code",
   "execution_count": null,
   "metadata": {
    "deletable": false,
    "editable": false,
    "nbgrader": {
     "cell_type": "code",
     "checksum": "ca76822d6586e01c0dc1824b06d0fecc",
     "grade": false,
     "grade_id": "cell-d34e084369ea0670",
     "locked": true,
     "schema_version": 3,
     "solution": false,
     "task": false
    }
   },
   "outputs": [],
   "source": [
    "episodes = 100 # episodes of each run\n",
    "rewards_q = np.zeros(episodes)\n",
    "q_values = np.zeros((GRID_HEIGHT, GRID_WIDTH, 4))\n",
    "\n",
    "for i in range(episodes):\n",
    "    rewards_q[i] += q_learning(q_values)"
   ]
  },
  {
   "cell_type": "code",
   "execution_count": null,
   "metadata": {
    "deletable": false,
    "editable": false,
    "nbgrader": {
     "cell_type": "code",
     "checksum": "fb71295413599016663a103437fc79ad",
     "grade": true,
     "grade_id": "cell-6660c3c072f4caf2",
     "locked": true,
     "points": 5,
     "schema_version": 3,
     "solution": false,
     "task": false
    }
   },
   "outputs": [],
   "source": [
    "assert (sum((rewards_q >= np.mean(rewards_q)))) > 70"
   ]
  },
  {
   "cell_type": "code",
   "execution_count": null,
   "metadata": {
    "deletable": false,
    "editable": false,
    "nbgrader": {
     "cell_type": "code",
     "checksum": "e0311ca9ce02eeaa411946b75805a43f",
     "grade": false,
     "grade_id": "cell-3acb4031d01b4a0a",
     "locked": true,
     "schema_version": 3,
     "solution": false,
     "task": false
    }
   },
   "outputs": [],
   "source": [
    "# episodes of each run\n",
    "episodes = 500\n",
    "\n",
    "rewards_q_learning = np.zeros(episodes)\n",
    "\n",
    "# we take multiple runs to create a smooth curve\n",
    "# however the optimal policy converges well with a single run\n",
    "for _ in tqdm(range(20)):\n",
    "    q_q_learning = np.zeros((GRID_HEIGHT, GRID_WIDTH, 4))\n",
    "    for i in range(episodes):\n",
    "        rewards_q_learning[i] += q_learning(q_q_learning)\n",
    "\n",
    "# averaging over independent runs\n",
    "rewards_q_learning /= 20\n",
    "\n",
    "# draw reward curves\n",
    "plt.plot(rewards_q_learning, label='Q-Learning')\n",
    "plt.xlabel('Episodes')\n",
    "plt.ylabel('Sum of rewards during episode')\n",
    "plt.ylim([-100, 0])\n",
    "plt.legend()\n",
    "plt.show()"
   ]
  },
  {
   "cell_type": "code",
   "execution_count": null,
   "metadata": {
    "deletable": false,
    "editable": false,
    "nbgrader": {
     "cell_type": "code",
     "checksum": "6609d55c13d8aa547b722d0a48b37bec",
     "grade": true,
     "grade_id": "cell-f1d0e4e8a178f4c7",
     "locked": true,
     "points": 5,
     "schema_version": 3,
     "solution": false,
     "task": false
    }
   },
   "outputs": [],
   "source": [
    "assert (abs(np.mean(rewards_q_learning[-100:]))) < 50"
   ]
  },
  {
   "cell_type": "markdown",
   "metadata": {
    "deletable": false,
    "editable": false,
    "nbgrader": {
     "cell_type": "markdown",
     "checksum": "ac4b478897ffca7f6ea10beea88b2c1d",
     "grade": false,
     "grade_id": "cell-6b07383885a541a3",
     "locked": true,
     "schema_version": 3,
     "solution": false,
     "task": false
    }
   },
   "source": [
    "Here we can see that Q-Learning converges to the optimal path."
   ]
  }
 ],
 "metadata": {
  "kernelspec": {
   "display_name": "Python 3",
   "language": "python",
   "name": "python3"
  },
  "language_info": {
   "codemirror_mode": {
    "name": "ipython",
    "version": 3
   },
   "file_extension": ".py",
   "mimetype": "text/x-python",
   "name": "python",
   "nbconvert_exporter": "python",
   "pygments_lexer": "ipython3",
   "version": "3.7.6"
  }
 },
 "nbformat": 4,
 "nbformat_minor": 4
}
