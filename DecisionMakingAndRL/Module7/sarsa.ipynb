{
 "cells": [
  {
   "cell_type": "markdown",
   "metadata": {
    "deletable": false,
    "editable": false,
    "nbgrader": {
     "cell_type": "markdown",
     "checksum": "088471f0dce19a2277f9f4ca4e5ac20e",
     "grade": false,
     "grade_id": "cell-b22daa9738a9eacd",
     "locked": true,
     "schema_version": 3,
     "solution": false,
     "task": false
    }
   },
   "source": [
    "## SARSA\n",
    "In this TD learning assignment, we are going to look at SARSA, an on-policy TD learning method.\n",
    "The environment investigated here is the famous Taxi-v3 environment from OpenAI Gym."
   ]
  },
  {
   "cell_type": "code",
   "execution_count": null,
   "metadata": {
    "deletable": false,
    "editable": false,
    "nbgrader": {
     "cell_type": "code",
     "checksum": "888af08a40d14dd6f1a24529d8054cfb",
     "grade": false,
     "grade_id": "cell-33de8a5f6a18ac0e",
     "locked": true,
     "schema_version": 3,
     "solution": false,
     "task": false
    }
   },
   "outputs": [],
   "source": [
    "###import the required modules\n",
    "\n",
    "import numpy as np\n",
    "import matplotlib.pyplot as plt\n",
    "from tqdm import tqdm"
   ]
  },
  {
   "cell_type": "markdown",
   "metadata": {
    "deletable": false,
    "editable": false,
    "nbgrader": {
     "cell_type": "markdown",
     "checksum": "00d4d68119fbef539e8350c5e1dc6461",
     "grade": false,
     "grade_id": "cell-15b929dac6ae94ca",
     "locked": true,
     "schema_version": 3,
     "solution": false,
     "task": false
    }
   },
   "source": [
    "## Cliff walking problem\n",
    "\n",
    "- The cliff is a gridworld-type, undiscounted, episodic task, with start state `S` and goal state `G`. \n",
    "- There are four actions allowed: Up, down, right, and left. \n",
    "- Action selection is $\\epsilon$-greedy; i.e., occasionally the agent will move in a random direction.\n",
    "- Reward is -1 on all transitions except those into the region marked 'The Cliff'. \n",
    "- Stepping into this region incurs a reward of -100 and sends the agent instantly back to `S`.\n",
    "\n",
    "Ideally, we would want to train an RL agent that learns the optimal policy and avoids travelling right along the cliff edge. In this assignment, we compare how Q-Learning and SARSA fare with this task."
   ]
  },
  {
   "attachments": {
    "image.png": {
     "image/png": "[encoded data removed]"
    }
   },
   "cell_type": "markdown",
   "metadata": {
    "deletable": false,
    "editable": false,
    "nbgrader": {
     "cell_type": "markdown",
     "checksum": "b541bc73816ac25afb063ca0038bc155",
     "grade": false,
     "grade_id": "cell-be928bcb4469e8c4",
     "locked": true,
     "schema_version": 3,
     "solution": false,
     "task": false
    }
   },
   "source": [
    "![image.png](attachment:image.png)"
   ]
  },
  {
   "cell_type": "code",
   "execution_count": null,
   "metadata": {
    "deletable": false,
    "editable": false,
    "nbgrader": {
     "cell_type": "code",
     "checksum": "50bd5c9f95c685412985955459841e6e",
     "grade": false,
     "grade_id": "cell-982df06fc5813961",
     "locked": true,
     "schema_version": 3,
     "solution": false,
     "task": false
    }
   },
   "outputs": [],
   "source": [
    "# grid world related constants\n",
    "GRID_HEIGHT = 4\n",
    "GRID_WIDTH = 12\n",
    "\n",
    "EPSILON = 0.1  # probability for exploration\n",
    "ALPHA = 0.5    # step size\n",
    "GAMMA = 1      # gamma for Q-Learning and SARSA\n",
    "\n",
    "UP = 0\n",
    "DOWN = 1\n",
    "LEFT = 2\n",
    "RIGHT = 3\n",
    "ACTIONS = [UP, DOWN, LEFT, RIGHT] # all possible actions\n",
    "\n",
    "# initial state action pair values\n",
    "START = [3, 0]\n",
    "GOAL = [3, 11]"
   ]
  },
  {
   "cell_type": "code",
   "execution_count": null,
   "metadata": {
    "deletable": false,
    "editable": false,
    "nbgrader": {
     "cell_type": "code",
     "checksum": "2ff5868b804752264417ac5361d231e1",
     "grade": false,
     "grade_id": "cell-39d8f2fa4a941506",
     "locked": true,
     "schema_version": 3,
     "solution": false,
     "task": false
    }
   },
   "outputs": [],
   "source": [
    "# required helper methods\n",
    "def step(state, action):\n",
    "    i, j = state\n",
    "    if action == UP:\n",
    "        next_state = [max(i - 1, 0), j]\n",
    "    elif action == LEFT:\n",
    "        next_state = [i, max(j - 1, 0)]\n",
    "    elif action == RIGHT:\n",
    "        next_state = [i, min(j + 1, GRID_WIDTH - 1)]\n",
    "    elif action == DOWN:\n",
    "        next_state = [min(i + 1, GRID_HEIGHT - 1), j]\n",
    "    else:\n",
    "        assert False\n",
    "\n",
    "    reward = -1\n",
    "    if (action == DOWN and i == 2 and 1 <= j <= 10) or (\n",
    "        action == RIGHT and state == START):\n",
    "        reward = -100\n",
    "        next_state = START\n",
    "\n",
    "    return next_state, reward\n",
    "\n",
    "def epsilon_greedy(state, q_value):\n",
    "    if np.random.binomial(1, EPSILON) == 1:\n",
    "        return np.random.choice(ACTIONS)\n",
    "    else:\n",
    "        values_ = q_value[state[0], state[1], :]\n",
    "        return np.random.choice([action_ for action_, value_ in enumerate(values_) if value_ == np.max(values_)])"
   ]
  },
  {
   "cell_type": "markdown",
   "metadata": {},
   "source": [
    "Now we create a function that performs SARSA. It\n",
    "- Updates Q-values until episode convergence\n",
    "- Returns total rewards within this episode"
   ]
  },
  {
   "cell_type": "markdown",
   "metadata": {
    "deletable": false,
    "editable": false,
    "nbgrader": {
     "cell_type": "markdown",
     "checksum": "e99085506c77f15f8452736fbb92690a",
     "grade": false,
     "grade_id": "cell-d9990191217c5ba5",
     "locked": true,
     "schema_version": 3,
     "solution": false,
     "task": false
    }
   },
   "source": [
    "Compute the target for SARSA.\n",
    "\n",
    "`HINT: Look at the update formula for SARSA `"
   ]
  },
  {
   "cell_type": "code",
   "execution_count": null,
   "metadata": {
    "deletable": false,
    "nbgrader": {
     "cell_type": "code",
     "checksum": "44f62b2119a24f3d7130a5f02f8032ac",
     "grade": false,
     "grade_id": "cell-f9e85bb641526975",
     "locked": false,
     "schema_version": 3,
     "solution": true,
     "task": false
    }
   },
   "outputs": [],
   "source": [
    "# an episode with Sarsa\n",
    "# @q_value: values for state action pair, will be updated\n",
    "# @return: total rewards within this episode\n",
    "def sarsa(q_value):\n",
    "    state = START\n",
    "    action = epsilon_greedy(state, q_value)\n",
    "    rewards = 0.0\n",
    "    while state != GOAL:\n",
    "        next_state, reward = step(state, action)\n",
    "        next_action = epsilon_greedy(next_state, q_value)\n",
    "        rewards += reward\n",
    "        \n",
    "        # define target for SARSA\n",
    "        target = None\n",
    "        # your code here\n",
    "        \n",
    "        \n",
    "        # update q_value\n",
    "        q_value[state[0], state[1], action] += ALPHA * (target - q_value[state[0], state[1], action])\n",
    "        \n",
    "        state = next_state\n",
    "        action = next_action\n",
    "    return rewards"
   ]
  },
  {
   "cell_type": "markdown",
   "metadata": {
    "deletable": false,
    "editable": false,
    "nbgrader": {
     "cell_type": "markdown",
     "checksum": "bfcd64bc33b0b46ab1cfcf6b85550dbf",
     "grade": false,
     "grade_id": "cell-297d45477b0a0732",
     "locked": true,
     "schema_version": 3,
     "solution": false,
     "task": false
    }
   },
   "source": [
    "Before we proceed, we need to confirm that SARSA converges on a typical gridworld setting. We can do so by running the following code."
   ]
  },
  {
   "cell_type": "code",
   "execution_count": null,
   "metadata": {
    "deletable": false,
    "editable": false,
    "nbgrader": {
     "cell_type": "code",
     "checksum": "e57475d8c6f133885df51e1b9a0fcf6d",
     "grade": false,
     "grade_id": "cell-f957afff5f19dcb0",
     "locked": true,
     "schema_version": 3,
     "solution": false,
     "task": false
    }
   },
   "outputs": [],
   "source": [
    "episodes = 100 # episodes of each run\n",
    "rewards_sarsa = np.zeros(episodes)\n",
    "q_sarsa = np.zeros((GRID_HEIGHT, GRID_WIDTH, 4))\n",
    "\n",
    "for i in range(episodes):\n",
    "    rewards_sarsa[i] += sarsa(q_sarsa)"
   ]
  },
  {
   "cell_type": "code",
   "execution_count": null,
   "metadata": {
    "deletable": false,
    "editable": false,
    "nbgrader": {
     "cell_type": "code",
     "checksum": "bcfe38a947503debab84afbeaec25f57",
     "grade": true,
     "grade_id": "cell-82de7fa19e90e413",
     "locked": true,
     "points": 5,
     "schema_version": 3,
     "solution": false,
     "task": false
    }
   },
   "outputs": [],
   "source": [
    "# np.max(rewards_sarsa)\n",
    "assert np.sum(rewards_sarsa >= np.mean(rewards_sarsa)) >= 75"
   ]
  },
  {
   "cell_type": "code",
   "execution_count": null,
   "metadata": {
    "deletable": false,
    "editable": false,
    "nbgrader": {
     "cell_type": "code",
     "checksum": "041f4dbb7f22ab24fd644442d2fd3610",
     "grade": false,
     "grade_id": "cell-3677b0ff800fcc89",
     "locked": true,
     "schema_version": 3,
     "solution": false,
     "task": false
    }
   },
   "outputs": [],
   "source": [
    "# episodes of each run\n",
    "episodes = 500\n",
    "\n",
    "rewards_sarsa = np.zeros(episodes)\n",
    "\n",
    "# we take multiple runs to create a smooth curve\n",
    "# however the optimal policy converges well with a single run\n",
    "for _ in tqdm(range(20)):\n",
    "    q_sarsa = np.zeros((GRID_HEIGHT, GRID_WIDTH, 4))\n",
    "    for i in range(episodes):\n",
    "        rewards_sarsa[i] += sarsa(q_sarsa)\n",
    "# averaging over independent runs\n",
    "rewards_sarsa /= 20\n",
    "\n",
    "# draw reward curves\n",
    "plt.plot(rewards_sarsa, label='Sarsa')\n",
    "plt.xlabel('Episodes')\n",
    "plt.ylabel('Sum of rewards during episode')\n",
    "plt.ylim([-100, 0])\n",
    "plt.legend()\n",
    "plt.show()"
   ]
  },
  {
   "cell_type": "markdown",
   "metadata": {
    "deletable": false,
    "editable": false,
    "nbgrader": {
     "cell_type": "markdown",
     "checksum": "92d02c91f37a7042729c5b622dd9b929",
     "grade": false,
     "grade_id": "cell-8a9237596d297ceb",
     "locked": true,
     "schema_version": 3,
     "solution": false,
     "task": false
    }
   },
   "source": [
    "Note that SARSA converges to the safe path here. Compare your results with Q-Learning (last assignment)"
   ]
  }
 ],
 "metadata": {
  "kernelspec": {
   "display_name": "Python 3",
   "language": "python",
   "name": "python3"
  },
  "language_info": {
   "codemirror_mode": {
    "name": "ipython",
    "version": 3
   },
   "file_extension": ".py",
   "mimetype": "text/x-python",
   "name": "python",
   "nbconvert_exporter": "python",
   "pygments_lexer": "ipython3",
   "version": "3.7.6"
  }
 },
 "nbformat": 4,
 "nbformat_minor": 4
}
