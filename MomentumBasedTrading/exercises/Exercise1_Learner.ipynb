{
 "cells": [
  {
   "cell_type": "markdown",
   "id": "871808c0-07e3-4260-bf07-d1159f52d2b9",
   "metadata": {},
   "source": [
    "# Exercise 1"
   ]
  },
  {
   "cell_type": "markdown",
   "id": "d65a1192-55fe-45bc-b2af-5bda0ed0afd7",
   "metadata": {},
   "source": [
    "## Question 1 ##\n",
    "Use scipy.stats.norm to generate 20 arrays, each containing 200 independent, identically distributed, normal random variables. Calculate and print the mean and the standard deviation of the samples in each of these arrays."
   ]
  },
  {
   "cell_type": "code",
   "execution_count": null,
   "id": "d08860fe-2dd5-4049-8b8f-67b568fb04e6",
   "metadata": {},
   "outputs": [
    {
     "data": {
      "text/plain": [
       "(array([ 0.11810671,  0.07050191, -0.03762225, -0.03998073, -0.04166922,\n",
       "        -0.02390559, -0.09575126,  0.04960608,  0.03441499,  0.12472522,\n",
       "        -0.07520256,  0.00234434,  0.04017236, -0.00187507,  0.07144294,\n",
       "         0.0600243 ,  0.00209472, -0.04530407,  0.09585719,  0.07843644]),\n",
       " array([0.94723567, 1.04296843, 1.06110164, 0.97677523, 1.00947928,\n",
       "        1.01456185, 1.02364249, 0.96108001, 0.88867053, 1.0304172 ,\n",
       "        0.91054641, 1.10052279, 0.99054287, 0.99501372, 1.06012585,\n",
       "        1.07911088, 0.98147543, 0.97520588, 0.96135277, 0.90968577]))"
      ]
     },
     "execution_count": 6,
     "metadata": {},
     "output_type": "execute_result"
    }
   ],
   "source": [
    "import numpy as np\n",
    "from scipy.stats import norm\n",
    "\n",
    "np.random.seed(42)\n",
    "N = 200\n",
    "K = 20\n",
    "\n",
    "# Your code goes here\n",
    "iid_samples = norm.rvs(size=(N, K))\n",
    "mean_samples = np.mean(iid_samples, axis=0)\n",
    "std_samples = np.std(iid_samples, axis=0, ddof=1)\n",
    "mean_samples, std_samples\n"
   ]
  },
  {
   "cell_type": "markdown",
   "id": "7f4681cd-0895-4fd2-b6f0-3e37e1dac44f",
   "metadata": {},
   "source": [
    "## Question 2 ##\n",
    "Perform the Student's t-test on each of these samples with the null hypothesis\n",
    "  \n",
    "$H_0$: The sample comes from a distribution of 0 mean.\n",
    "\n",
    "\n",
    "Calculate the p-value of these tests. If we reject $H_0$ when the p-value is less than 5%, in how many cases will we reject $H_0$?"
   ]
  },
  {
   "cell_type": "code",
   "execution_count": null,
   "id": "29060bec-7fe2-4bd7-9279-f8241f074bd1",
   "metadata": {},
   "outputs": [
    {
     "name": "stdout",
     "output_type": "stream",
     "text": [
      "P-values: [0.07938099 0.34024673 0.61662891 0.56334045 0.56004407 0.7393162\n",
      " 0.18740275 0.46628197 0.58452969 0.08848916 0.24420129 0.97599703\n",
      " 0.56692192 0.97876534 0.3417196  0.43242839 0.97595136 0.51194918\n",
      " 0.16006453 0.22414076]\n",
      "Number of rejections (p < 0.05): 0\n"
     ]
    }
   ],
   "source": [
    "from scipy.stats import t as Students_t\n",
    "# your code goes here\n",
    "\n",
    "t_stats = mean_samples / (std_samples / np.sqrt(N))\n",
    "\n",
    "# Compute two-tailed p-values from Student's t-distribution\n",
    "df = N - 1  # degrees of freedom\n",
    "p_values = 2 * Students_t.sf(np.abs(t_stats), df)\n",
    "\n",
    "# Count how many times we reject H0 (p < 0.05)\n",
    "rejections = np.sum(p_values < 0.05)\n",
    "\n",
    "# Display results\n",
    "print(f\"P-values: {p_values}\")\n",
    "print(f\"Number of rejections (p < 0.05): {rejections}\")"
   ]
  }
 ],
 "metadata": {
  "kernelspec": {
   "display_name": "(myEnv01)",
   "language": "python",
   "name": "myenv01"
  },
  "language_info": {
   "codemirror_mode": {
    "name": "ipython",
    "version": 3
   },
   "file_extension": ".py",
   "mimetype": "text/x-python",
   "name": "python",
   "nbconvert_exporter": "python",
   "pygments_lexer": "ipython3",
   "version": "3.11.5"
  }
 },
 "nbformat": 4,
 "nbformat_minor": 5
}
