{
 "cells": [
  {
   "cell_type": "markdown",
   "id": "848523b1-cb88-4fb8-a450-dd26f44c2f6a",
   "metadata": {},
   "source": [
    "# Exercise 3"
   ]
  },
  {
   "cell_type": "markdown",
   "id": "24c1bd7b-a907-49d9-b49b-77be709131bb",
   "metadata": {},
   "source": [
    "## Question 1\n",
    "Load the prices data from SP500.csv to the SQLite database."
   ]
  },
  {
   "cell_type": "code",
   "execution_count": 2,
   "id": "a5325b0c-f961-486d-9e98-fdd3a808886c",
   "metadata": {},
   "outputs": [],
   "source": [
    "import sqlite3\n",
    "import csv\n",
    "from contextlib import closing\n",
    "\n",
    "conn = sqlite3.connect(\"Exercise3.db\")\n",
    "cs = conn.cursor()\n",
    "cs.execute(\"\"\"\n",
    "create table if not exists prices (\n",
    "theday text primary key,\n",
    "price real\n",
    ");\n",
    "\"\"\")\n",
    "with closing(open('SP500.csv')) as datafile:\n",
    "    reader = csv.DictReader(datafile, fieldnames=[\"date\", \"price\"], delimiter='\\t')\n",
    "    for row in reader:\n",
    "        cs.execute(f'insert into prices values (\"{row[\"date\"]}\", {float(row[\"price\"])})')\n",
    "conn.commit()\n"
   ]
  },
  {
   "cell_type": "markdown",
   "id": "9e2fceb7-2289-4404-b1ca-ae95aabfbefa",
   "metadata": {},
   "source": [
    "## Question 2\n",
    "Calibrate a GBM model to the prices of the 120 days prior to *2021-05-31*.\n",
    "\n",
    "**Hint**:\n",
    "1. Read the data from the database\n",
    "2. Calibrate the GBM model in exactly the same way as in Question 3 of Exercise 2."
   ]
  },
  {
   "cell_type": "code",
   "execution_count": null,
   "id": "fba19d8e-9b6a-4ac1-b911-59e3cfa602d8",
   "metadata": {},
   "outputs": [
    {
     "name": "stdout",
     "output_type": "stream",
     "text": [
      "Model parameters: -0.2212,   0.1419\n"
     ]
    }
   ],
   "source": [
    "import numpy as np\n",
    "import sqlite3\n",
    "import csv\n",
    "from contextlib import closing\n",
    "\n",
    "class GBM:\n",
    "    def __init__(self, seed=None):\n",
    "        self.mu = np.nan\n",
    "        self.sigma = np.nan\n",
    "        self.rng = np.random.default_rng()\n",
    "        \n",
    "    def calibrate(self, trajectory, Dt, num_bootstraps=100):\n",
    "            \"\"\"\n",
    "            Calibrates the model's mu and sigma using bootstrapping and\n",
    "            updates the object's state with the results.\n",
    "            \"\"\"       \n",
    "            log_returns = np.diff(np.log(trajectory))\n",
    "            \n",
    "            bootstrap_means = []\n",
    "            bootstrap_mean_squares = []\n",
    "            \n",
    "            for _ in range(num_bootstraps):\n",
    "                bootstrap_sample = self.rng.choice(\n",
    "                    log_returns, \n",
    "                    size=len(log_returns), \n",
    "                    replace=True\n",
    "                )\n",
    "                bootstrap_means.append(np.mean(bootstrap_sample))\n",
    "                bootstrap_mean_squares.append(np.mean(bootstrap_sample**2))\n",
    "            \n",
    "            avg_mean = np.mean(bootstrap_means)\n",
    "            avg_mean_square = np.mean(bootstrap_mean_squares)\n",
    "            \n",
    "            std_of_returns = np.sqrt(avg_mean_square - avg_mean**2)\n",
    "            \n",
    "            # Calculate the final parameter estimates\n",
    "            est_sigma = std_of_returns / np.sqrt(Dt)\n",
    "            est_mu = avg_mean / Dt + 0.5 * est_sigma**2\n",
    "            \n",
    "            # --- Key Step: Modify the object's state ---\n",
    "            self.mu = est_mu\n",
    "            self.sigma = est_sigma"
   ]
  },
  {
   "cell_type": "code",
   "execution_count": 13,
   "id": "b5b28c7a",
   "metadata": {},
   "outputs": [
    {
     "name": "stdout",
     "output_type": "stream",
     "text": [
      "Model parameters: -0.1931,   0.1416\n"
     ]
    }
   ],
   "source": [
    "test_date = '2021-05-31'\n",
    "N = 120\n",
    "model = GBM(seed=42)\n",
    "prices = None\n",
    "with closing(sqlite3.connect(\"Exercise3.db\")) as conn:\n",
    "    # Your code goes here\n",
    "    cs = conn.cursor()\n",
    "    cs.execute(\"SELECT price FROM prices WHERE theday < ? ORDER BY theday DESC LIMIT ?\", (test_date, N))\n",
    "    prices = [row[0] for row in cs.fetchall()]\n",
    "    if len(prices) < N:\n",
    "        raise ValueError(\"Not enough data points for the specified date and N.\")\n",
    "    model.calibrate(prices, Dt=1/252) \n",
    "print(F\"Model parameters: % .4f,  % .4f\" % (model.mu, model.sigma))\n"
   ]
  },
  {
   "cell_type": "markdown",
   "id": "75f27938-fd16-4b7c-8018-d78acca1f412",
   "metadata": {},
   "source": [
    "## Question 3\n",
    "Use the calibrated GBM model to forecast the price on *2021-05-31*. What is the 95% confidence interval of the forecast?\n",
    "\n",
    "**Hint**\n",
    "\n",
    "Recall the formula for price forecast:\n",
    "$$S_{t + \\Delta t} = S_t \\exp \\left[\n",
    "\\left(\n",
    "\\mu - \\frac{\\sigma^2}{2}\n",
    "\\right)\\Delta t + \\sigma \\left(\n",
    "W_{t + \\Delta t} - W_t\n",
    "\\right)\n",
    "\\right]\n",
    "$$"
   ]
  },
  {
   "cell_type": "markdown",
   "id": "a31f281d-2e97-4e02-958b-4a9c9e0222d0",
   "metadata": {},
   "source": [
    "Our price forecast is\n",
    "$$\n",
    "\\mathbb E S_{t+\\Delta t} = S_t \\exp \\left(\n",
    "\\mu \\Delta t\n",
    "\\right)\n",
    "$$"
   ]
  },
  {
   "cell_type": "markdown",
   "id": "835ba0b8-ad09-4f9f-b45d-0a982c90d8df",
   "metadata": {},
   "source": [
    "$S_t$ is the latest price we have, i.e. the price on *2021-05-30*. $\\Delta t = 1/250$ - make sure you use the same $\\Delta t$ in forecasting as you have done in calibration. $(\\mu - \\frac{\\sigma^2}{2})t + \\sigma(W_{t+\\Delta t} - W_{t})$ has normal distribution with mean $(\\mu - \\frac{\\sigma^2}{2})\\Delta t$ and standard deviation $\\sigma \\sqrt{\\Delta t}$. Use these parameters with scipy.stats.norm.ppf to calculate the 2.5% quantile and the 97.5% quantile of the distribution. Call them $q_1$ and $q_2$."
   ]
  },
  {
   "cell_type": "markdown",
   "id": "ce053daa-caaf-48eb-8257-473cea175ffe",
   "metadata": {},
   "source": [
    "Then the required confidence interval is $(S_t e^{q_1}, S_t e^{q_2})$."
   ]
  },
  {
   "cell_type": "code",
   "execution_count": 15,
   "id": "b2228a6c-d913-40e5-9035-81559dd9e3ec",
   "metadata": {},
   "outputs": [
    {
     "name": "stdout",
     "output_type": "stream",
     "text": [
      "Expected price on 2021-05-31: 3804.28 ± 33.97\n",
      "Expected price range: [3770.31, 3838.25]\n"
     ]
    }
   ],
   "source": [
    "from scipy.stats import norm\n",
    "\n",
    "# Your code goes here\n",
    "prices_20210530 = np.array(prices)\n",
    "St = prices_20210530[-1]\n",
    "\n",
    "T = 1.0 / 252 # Time step in years\n",
    "\n",
    "expected_price = St * np.exp(model.mu * T)\n",
    "expected_price_std = St * model.sigma * np.sqrt(T)\n",
    "print(f\"Expected price on {test_date}: {expected_price:.2f} ± {expected_price_std:.2f}\")\n",
    "print(f\"Expected price range: [{expected_price - expected_price_std:.2f}, {expected_price + expected_price_std:.2f}]\")"
   ]
  }
 ],
 "metadata": {
  "kernelspec": {
   "display_name": "(myEnv01)",
   "language": "python",
   "name": "myenv01"
  },
  "language_info": {
   "codemirror_mode": {
    "name": "ipython",
    "version": 3
   },
   "file_extension": ".py",
   "mimetype": "text/x-python",
   "name": "python",
   "nbconvert_exporter": "python",
   "pygments_lexer": "ipython3",
   "version": "3.11.5"
  }
 },
 "nbformat": 4,
 "nbformat_minor": 5
}
