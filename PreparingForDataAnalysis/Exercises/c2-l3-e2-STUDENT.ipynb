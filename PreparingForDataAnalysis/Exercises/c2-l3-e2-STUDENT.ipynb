{
 "cells": [
  {
   "cell_type": "markdown",
   "id": "d20767aa-def3-4e50-b194-9e327b523b04",
   "metadata": {},
   "source": [
    "# Exercise: Time Series Manipulations in Pandas\n",
    "\n",
    "Like in prior exercises, you'll download a ticker's historical data from YahooFinance. But raw data isn't that useful by itself, so in this exercise you'll get practice with manipulating time series data in Pandas. "
   ]
  },
  {
   "cell_type": "code",
   "execution_count": 5,
   "id": "43a37184-44e1-41e2-a8b9-d776b56a92d6",
   "metadata": {},
   "outputs": [],
   "source": [
    "import pandas as pd\n",
    "import yfinance as yf"
   ]
  },
  {
   "cell_type": "markdown",
   "id": "71fb6221-5044-43c9-bf58-c361cc16a2b0",
   "metadata": {},
   "source": [
    "**Pull data for your favorite ticker from YahooFinance**\n",
    "\n",
    "Use the YF API to pull **daily** price data for at least 3 years for any stock ticker you'd like."
   ]
  },
  {
   "cell_type": "code",
   "execution_count": 10,
   "id": "c4b0b596-a1e0-4189-ae46-377a6c64da75",
   "metadata": {},
   "outputs": [
    {
     "name": "stderr",
     "output_type": "stream",
     "text": [
      "[*********************100%***********************]  1 of 1 completed\n"
     ]
    }
   ],
   "source": [
    "stock_ticker = 'AAPL'\n",
    "start_date = '2020-01-01' # use format YYYY-MM-DD\n",
    "end_date = '2024-01-02'\n",
    "\n",
    "data = yf.download(stock_ticker, start=start_date, end=end_date, auto_adjust=False) # replace ... inside this function with the correct parameters in order to get your data"
   ]
  },
  {
   "cell_type": "markdown",
   "id": "13086f04-973b-4199-a932-5fb3945b8879",
   "metadata": {},
   "source": [
    "**Resample from daily to weekly, taking the Friday price**\n",
    "\n",
    "Using the above data, resample your `closing` price to weekly. In the demo, we used the last day of the period. In this exercise, can you figure out how to pull the weekly data that's for Friday specifically? "
   ]
  },
  {
   "cell_type": "code",
   "execution_count": 11,
   "id": "190edac7-7198-44f5-bde6-3cea8a78486a",
   "metadata": {},
   "outputs": [],
   "source": [
    "weekly_data_friday = data[data.index.weekday == 4]  # Filter for Fridays"
   ]
  },
  {
   "cell_type": "code",
   "execution_count": 13,
   "id": "c4aa3598",
   "metadata": {},
   "outputs": [
    {
     "data": {
      "text/html": [
       "<div>\n",
       "<style scoped>\n",
       "    .dataframe tbody tr th:only-of-type {\n",
       "        vertical-align: middle;\n",
       "    }\n",
       "\n",
       "    .dataframe tbody tr th {\n",
       "        vertical-align: top;\n",
       "    }\n",
       "\n",
       "    .dataframe thead tr th {\n",
       "        text-align: left;\n",
       "    }\n",
       "\n",
       "    .dataframe thead tr:last-of-type th {\n",
       "        text-align: right;\n",
       "    }\n",
       "</style>\n",
       "<table border=\"1\" class=\"dataframe\">\n",
       "  <thead>\n",
       "    <tr>\n",
       "      <th>Price</th>\n",
       "      <th>Adj Close</th>\n",
       "      <th>Close</th>\n",
       "      <th>High</th>\n",
       "      <th>Low</th>\n",
       "      <th>Open</th>\n",
       "      <th>Volume</th>\n",
       "    </tr>\n",
       "    <tr>\n",
       "      <th>Ticker</th>\n",
       "      <th>AAPL</th>\n",
       "      <th>AAPL</th>\n",
       "      <th>AAPL</th>\n",
       "      <th>AAPL</th>\n",
       "      <th>AAPL</th>\n",
       "      <th>AAPL</th>\n",
       "    </tr>\n",
       "    <tr>\n",
       "      <th>Date</th>\n",
       "      <th></th>\n",
       "      <th></th>\n",
       "      <th></th>\n",
       "      <th></th>\n",
       "      <th></th>\n",
       "      <th></th>\n",
       "    </tr>\n",
       "  </thead>\n",
       "  <tbody>\n",
       "    <tr>\n",
       "      <th>2020-01-03</th>\n",
       "      <td>71.914825</td>\n",
       "      <td>74.357498</td>\n",
       "      <td>75.144997</td>\n",
       "      <td>74.125000</td>\n",
       "      <td>74.287498</td>\n",
       "      <td>146322800</td>\n",
       "    </tr>\n",
       "    <tr>\n",
       "      <th>2020-01-10</th>\n",
       "      <td>75.033867</td>\n",
       "      <td>77.582497</td>\n",
       "      <td>78.167503</td>\n",
       "      <td>77.062500</td>\n",
       "      <td>77.650002</td>\n",
       "      <td>140644800</td>\n",
       "    </tr>\n",
       "    <tr>\n",
       "      <th>2020-01-17</th>\n",
       "      <td>77.064888</td>\n",
       "      <td>79.682503</td>\n",
       "      <td>79.684998</td>\n",
       "      <td>78.750000</td>\n",
       "      <td>79.067497</td>\n",
       "      <td>137816400</td>\n",
       "    </tr>\n",
       "    <tr>\n",
       "      <th>2020-01-24</th>\n",
       "      <td>76.963356</td>\n",
       "      <td>79.577499</td>\n",
       "      <td>80.832497</td>\n",
       "      <td>79.379997</td>\n",
       "      <td>80.062500</td>\n",
       "      <td>146537600</td>\n",
       "    </tr>\n",
       "    <tr>\n",
       "      <th>2020-01-31</th>\n",
       "      <td>74.835602</td>\n",
       "      <td>77.377502</td>\n",
       "      <td>80.669998</td>\n",
       "      <td>77.072502</td>\n",
       "      <td>80.232498</td>\n",
       "      <td>199588400</td>\n",
       "    </tr>\n",
       "  </tbody>\n",
       "</table>\n",
       "</div>"
      ],
      "text/plain": [
       "Price       Adj Close      Close       High        Low       Open     Volume\n",
       "Ticker           AAPL       AAPL       AAPL       AAPL       AAPL       AAPL\n",
       "Date                                                                        \n",
       "2020-01-03  71.914825  74.357498  75.144997  74.125000  74.287498  146322800\n",
       "2020-01-10  75.033867  77.582497  78.167503  77.062500  77.650002  140644800\n",
       "2020-01-17  77.064888  79.682503  79.684998  78.750000  79.067497  137816400\n",
       "2020-01-24  76.963356  79.577499  80.832497  79.379997  80.062500  146537600\n",
       "2020-01-31  74.835602  77.377502  80.669998  77.072502  80.232498  199588400"
      ]
     },
     "execution_count": 13,
     "metadata": {},
     "output_type": "execute_result"
    }
   ],
   "source": [
    "weekly_data_friday.head()"
   ]
  },
  {
   "cell_type": "code",
   "execution_count": 25,
   "id": "04a38cd4",
   "metadata": {},
   "outputs": [
    {
     "name": "stdout",
     "output_type": "stream",
     "text": [
      "Index(['Friday', 'Friday', 'Friday', 'Friday', 'Friday', 'Friday', 'Friday',\n",
      "       'Friday', 'Friday', 'Friday', 'Friday', 'Friday', 'Friday'],\n",
      "      dtype='object', name='Date')\n"
     ]
    }
   ],
   "source": [
    "# Check day of the week\n",
    "dates = weekly_data_friday.index\n",
    "print(dates.day_name()) "
   ]
  },
  {
   "cell_type": "markdown",
   "id": "2b420bc1-c4e8-4425-bd68-d3ea6dcdea5e",
   "metadata": {},
   "source": [
    "**Taking time-based slice of your data**\n",
    "\n",
    "Above you pulled the last 3 years of data for a given ticker. But in lots of trading applications, you don't need data that goes that far back in time as trends and underlying phenomenon have changed. \n",
    "\n",
    "Can you take just the last 3 months of data and put it into a new DataFrame? "
   ]
  },
  {
   "cell_type": "code",
   "execution_count": null,
   "id": "4f718672",
   "metadata": {},
   "outputs": [],
   "source": [
    "# Assuming weekly_data_friday has a datetime index\n",
    "end_date = weekly_data_friday.index.max()\n",
    "start_date = end_date - pd.DateOffset(months=3)\n",
    "last_3_months = weekly_data_friday.loc[start_date:end_date]"
   ]
  },
  {
   "cell_type": "code",
   "execution_count": 21,
   "id": "f14d8f92",
   "metadata": {},
   "outputs": [
    {
     "data": {
      "text/html": [
       "<div>\n",
       "<style scoped>\n",
       "    .dataframe tbody tr th:only-of-type {\n",
       "        vertical-align: middle;\n",
       "    }\n",
       "\n",
       "    .dataframe tbody tr th {\n",
       "        vertical-align: top;\n",
       "    }\n",
       "\n",
       "    .dataframe thead tr th {\n",
       "        text-align: left;\n",
       "    }\n",
       "\n",
       "    .dataframe thead tr:last-of-type th {\n",
       "        text-align: right;\n",
       "    }\n",
       "</style>\n",
       "<table border=\"1\" class=\"dataframe\">\n",
       "  <thead>\n",
       "    <tr>\n",
       "      <th>Price</th>\n",
       "      <th>Adj Close</th>\n",
       "      <th>Close</th>\n",
       "      <th>High</th>\n",
       "      <th>Low</th>\n",
       "      <th>Open</th>\n",
       "      <th>Volume</th>\n",
       "    </tr>\n",
       "    <tr>\n",
       "      <th>Ticker</th>\n",
       "      <th>AAPL</th>\n",
       "      <th>AAPL</th>\n",
       "      <th>AAPL</th>\n",
       "      <th>AAPL</th>\n",
       "      <th>AAPL</th>\n",
       "      <th>AAPL</th>\n",
       "    </tr>\n",
       "    <tr>\n",
       "      <th>Date</th>\n",
       "      <th></th>\n",
       "      <th></th>\n",
       "      <th></th>\n",
       "      <th></th>\n",
       "      <th></th>\n",
       "      <th></th>\n",
       "    </tr>\n",
       "  </thead>\n",
       "  <tbody>\n",
       "    <tr>\n",
       "      <th>2023-12-01</th>\n",
       "      <td>189.849701</td>\n",
       "      <td>191.240005</td>\n",
       "      <td>191.559998</td>\n",
       "      <td>189.229996</td>\n",
       "      <td>190.330002</td>\n",
       "      <td>45704800</td>\n",
       "    </tr>\n",
       "    <tr>\n",
       "      <th>2023-12-08</th>\n",
       "      <td>194.287201</td>\n",
       "      <td>195.710007</td>\n",
       "      <td>195.990005</td>\n",
       "      <td>193.669998</td>\n",
       "      <td>194.199997</td>\n",
       "      <td>53406400</td>\n",
       "    </tr>\n",
       "    <tr>\n",
       "      <th>2023-12-15</th>\n",
       "      <td>196.133698</td>\n",
       "      <td>197.570007</td>\n",
       "      <td>198.399994</td>\n",
       "      <td>197.000000</td>\n",
       "      <td>197.529999</td>\n",
       "      <td>128538400</td>\n",
       "    </tr>\n",
       "    <tr>\n",
       "      <th>2023-12-22</th>\n",
       "      <td>192.192551</td>\n",
       "      <td>193.600006</td>\n",
       "      <td>195.410004</td>\n",
       "      <td>192.970001</td>\n",
       "      <td>195.179993</td>\n",
       "      <td>37149600</td>\n",
       "    </tr>\n",
       "    <tr>\n",
       "      <th>2023-12-29</th>\n",
       "      <td>191.130325</td>\n",
       "      <td>192.529999</td>\n",
       "      <td>194.399994</td>\n",
       "      <td>191.729996</td>\n",
       "      <td>193.899994</td>\n",
       "      <td>42672100</td>\n",
       "    </tr>\n",
       "  </tbody>\n",
       "</table>\n",
       "</div>"
      ],
      "text/plain": [
       "Price        Adj Close       Close        High         Low        Open  \\\n",
       "Ticker            AAPL        AAPL        AAPL        AAPL        AAPL   \n",
       "Date                                                                     \n",
       "2023-12-01  189.849701  191.240005  191.559998  189.229996  190.330002   \n",
       "2023-12-08  194.287201  195.710007  195.990005  193.669998  194.199997   \n",
       "2023-12-15  196.133698  197.570007  198.399994  197.000000  197.529999   \n",
       "2023-12-22  192.192551  193.600006  195.410004  192.970001  195.179993   \n",
       "2023-12-29  191.130325  192.529999  194.399994  191.729996  193.899994   \n",
       "\n",
       "Price          Volume  \n",
       "Ticker           AAPL  \n",
       "Date                   \n",
       "2023-12-01   45704800  \n",
       "2023-12-08   53406400  \n",
       "2023-12-15  128538400  \n",
       "2023-12-22   37149600  \n",
       "2023-12-29   42672100  "
      ]
     },
     "execution_count": 21,
     "metadata": {},
     "output_type": "execute_result"
    }
   ],
   "source": [
    "last_3_months.tail()"
   ]
  }
 ],
 "metadata": {
  "kernelspec": {
   "display_name": "Python(myEnv01)",
   "language": "python",
   "name": "myenv01"
  },
  "language_info": {
   "codemirror_mode": {
    "name": "ipython",
    "version": 3
   },
   "file_extension": ".py",
   "mimetype": "text/x-python",
   "name": "python",
   "nbconvert_exporter": "python",
   "pygments_lexer": "ipython3",
   "version": "3.11.5"
  }
 },
 "nbformat": 4,
 "nbformat_minor": 5
}
