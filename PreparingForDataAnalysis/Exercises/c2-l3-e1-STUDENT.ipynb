{
 "cells": [
  {
   "cell_type": "markdown",
   "id": "46dc2beb-8580-4eca-9a45-e0be76831800",
   "metadata": {},
   "source": [
    "# Exercise: Feature Engineering for Trading Models \n",
    "\n",
    "In this exercise, you'll get practice engineering features for trading models. You can use built-in Pandas methods to do this feature engineering. In the demo, we'll show you how to use a more specialized library called `ta` to do technical analysis feature engineering. "
   ]
  },
  {
   "cell_type": "code",
   "execution_count": 3,
   "id": "95c38983-59ee-4cc1-8014-8befef7b75cc",
   "metadata": {},
   "outputs": [],
   "source": [
    "import pandas as pd\n",
    "import yfinance as yf"
   ]
  },
  {
   "cell_type": "markdown",
   "id": "80557948-987d-4392-bfe6-37c126a8d419",
   "metadata": {},
   "source": [
    "**Pull data for one stock ticker from YahooFinance**\n",
    "\n",
    "Use the YF API to pull daily price data for at least 2 years for any stock ticker you'd like."
   ]
  },
  {
   "cell_type": "code",
   "execution_count": 15,
   "id": "16691348-683e-4eb7-baac-ef1e62740e31",
   "metadata": {},
   "outputs": [],
   "source": [
    "stock_ticker = 'AAPL'\n",
    "start_date = '2020-01-01' # use format YYYY-MM-DD\n",
    "end_date = '2024-01-02'"
   ]
  },
  {
   "cell_type": "code",
   "execution_count": 24,
   "id": "47db4008-40f1-47fa-a91e-b5788b1d98c4",
   "metadata": {},
   "outputs": [
    {
     "name": "stderr",
     "output_type": "stream",
     "text": [
      "[*********************100%***********************]  1 of 1 completed\n"
     ]
    }
   ],
   "source": [
    "data = yf.download(stock_ticker, start=start_date, end=end_date, auto_adjust=False)\n",
    "data = data.xs('AAPL', axis=1, level=1)"
   ]
  },
  {
   "cell_type": "code",
   "execution_count": 25,
   "id": "234dd444",
   "metadata": {},
   "outputs": [
    {
     "data": {
      "text/html": [
       "<div>\n",
       "<style scoped>\n",
       "    .dataframe tbody tr th:only-of-type {\n",
       "        vertical-align: middle;\n",
       "    }\n",
       "\n",
       "    .dataframe tbody tr th {\n",
       "        vertical-align: top;\n",
       "    }\n",
       "\n",
       "    .dataframe thead th {\n",
       "        text-align: right;\n",
       "    }\n",
       "</style>\n",
       "<table border=\"1\" class=\"dataframe\">\n",
       "  <thead>\n",
       "    <tr style=\"text-align: right;\">\n",
       "      <th>Price</th>\n",
       "      <th>Adj Close</th>\n",
       "      <th>Close</th>\n",
       "      <th>High</th>\n",
       "      <th>Low</th>\n",
       "      <th>Open</th>\n",
       "      <th>Volume</th>\n",
       "    </tr>\n",
       "    <tr>\n",
       "      <th>Date</th>\n",
       "      <th></th>\n",
       "      <th></th>\n",
       "      <th></th>\n",
       "      <th></th>\n",
       "      <th></th>\n",
       "      <th></th>\n",
       "    </tr>\n",
       "  </thead>\n",
       "  <tbody>\n",
       "    <tr>\n",
       "      <th>2020-01-02</th>\n",
       "      <td>72.620819</td>\n",
       "      <td>75.087502</td>\n",
       "      <td>75.150002</td>\n",
       "      <td>73.797501</td>\n",
       "      <td>74.059998</td>\n",
       "      <td>135480400</td>\n",
       "    </tr>\n",
       "    <tr>\n",
       "      <th>2020-01-03</th>\n",
       "      <td>71.914833</td>\n",
       "      <td>74.357498</td>\n",
       "      <td>75.144997</td>\n",
       "      <td>74.125000</td>\n",
       "      <td>74.287498</td>\n",
       "      <td>146322800</td>\n",
       "    </tr>\n",
       "    <tr>\n",
       "      <th>2020-01-06</th>\n",
       "      <td>72.487862</td>\n",
       "      <td>74.949997</td>\n",
       "      <td>74.989998</td>\n",
       "      <td>73.187500</td>\n",
       "      <td>73.447502</td>\n",
       "      <td>118387200</td>\n",
       "    </tr>\n",
       "    <tr>\n",
       "      <th>2020-01-07</th>\n",
       "      <td>72.146935</td>\n",
       "      <td>74.597504</td>\n",
       "      <td>75.224998</td>\n",
       "      <td>74.370003</td>\n",
       "      <td>74.959999</td>\n",
       "      <td>108872000</td>\n",
       "    </tr>\n",
       "    <tr>\n",
       "      <th>2020-01-08</th>\n",
       "      <td>73.307510</td>\n",
       "      <td>75.797501</td>\n",
       "      <td>76.110001</td>\n",
       "      <td>74.290001</td>\n",
       "      <td>74.290001</td>\n",
       "      <td>132079200</td>\n",
       "    </tr>\n",
       "  </tbody>\n",
       "</table>\n",
       "</div>"
      ],
      "text/plain": [
       "Price       Adj Close      Close       High        Low       Open     Volume\n",
       "Date                                                                        \n",
       "2020-01-02  72.620819  75.087502  75.150002  73.797501  74.059998  135480400\n",
       "2020-01-03  71.914833  74.357498  75.144997  74.125000  74.287498  146322800\n",
       "2020-01-06  72.487862  74.949997  74.989998  73.187500  73.447502  118387200\n",
       "2020-01-07  72.146935  74.597504  75.224998  74.370003  74.959999  108872000\n",
       "2020-01-08  73.307510  75.797501  76.110001  74.290001  74.290001  132079200"
      ]
     },
     "execution_count": 25,
     "metadata": {},
     "output_type": "execute_result"
    }
   ],
   "source": [
    "data.head()  # check if your download worked"
   ]
  },
  {
   "cell_type": "markdown",
   "id": "590c0326-987e-4ac7-8d7e-2bc2372c3aee",
   "metadata": {},
   "source": [
    "**Calculate the 10-day momentum for the above ticker's closing price**\n",
    "\n",
    "Recall that the 10-day momentum is the rate of change of a price over a 10-day period. It's used in technical analysis to see in which direction and with what magnitude an asset's price is moving. \n",
    "\n",
    "To calculate the rate of change, recall you can use the Pandas method `pct_change()`. To get a 10-day rate of change speficially, you'll have to pass in some parameter to the `pct_change()` method. Reading the documentation for that method may help: \n",
    "\n"
   ]
  },
  {
   "cell_type": "code",
   "execution_count": 26,
   "id": "b9338e55-1764-4411-bbea-d3f52a6c5f12",
   "metadata": {},
   "outputs": [],
   "source": [
    "data['10_day_momentum'] = data['Close'].pct_change(periods=10, fill_method=None)  # 10-day momentum"
   ]
  },
  {
   "cell_type": "markdown",
   "id": "bf0e0c80-b665-4c86-84cf-b909f86dd90d",
   "metadata": {},
   "source": [
    "**Calculate a 12-day and 26-day exponential moving average**\n",
    "\n",
    "Using the closing price for your stock, use Pandas to calculate a 12-day and 26-day EMA (exponential moving average). Look into the Pandas method `ewm()`, which was used in the demo. "
   ]
  },
  {
   "cell_type": "code",
   "execution_count": 27,
   "id": "80e8373a-b82c-4b35-8692-618d294761d5",
   "metadata": {},
   "outputs": [],
   "source": [
    "data['EMA_12'] = data['Close'].ewm(span=12, adjust=False).mean()  # 12-day EMA\n",
    "data['EMA_26'] = data['Close'].ewm(span=26, adjust=False).mean()  # 26-day EMA"
   ]
  },
  {
   "cell_type": "markdown",
   "id": "a132f0b0-e615-4342-a004-4c88c83e762a",
   "metadata": {},
   "source": [
    "**Manually calculate the MACD (moving average convergence divergence)**\n",
    "\n",
    "Recall that the MACD is calculated as the 12-day exponential moving average minus the 26-day. Use the above step to calculate the MACD. You'll have to create your own column for this step. \n"
   ]
  },
  {
   "cell_type": "code",
   "execution_count": 28,
   "id": "f06753e5-4ad4-421c-aa4e-c6208dadc70a",
   "metadata": {},
   "outputs": [],
   "source": [
    "# calculate the MACD and save it to a new column in your dataframe \n",
    "MACD = data['EMA_12'] - data['EMA_26']\n",
    "data['MACD'] = MACD  # save the MACD to a new column in your dataframe"
   ]
  },
  {
   "cell_type": "markdown",
   "id": "d48acfe9-451e-4514-94bc-70744ecf8b46",
   "metadata": {},
   "source": [
    "**Manually calculate the MACD Signal**\n",
    "\n",
    "Recall that the MACD signal (discussed in the feature engineering demo) is calculated as the 9-period exponential moving average of the MACD (calculated in the prior step). Can you manually use Pandas methods to calculate the MACD signal? Create a new column for it in your dataframe. "
   ]
  },
  {
   "cell_type": "code",
   "execution_count": 29,
   "id": "aa8f61e8-48c3-4945-b3cf-fcb187cecd44",
   "metadata": {},
   "outputs": [],
   "source": [
    "# calculate the MACD signal using the above MACD using only Pandas methods (don't use the ta library shown in the demo) \n",
    "MACD_signal = MACD.ewm(span=9, adjust=False).mean()  # 9-day EMA of MACD\n",
    "data['MACD_signal'] = MACD_signal  # save the MACD signal to a"
   ]
  },
  {
   "cell_type": "code",
   "execution_count": 30,
   "id": "74968102",
   "metadata": {},
   "outputs": [],
   "source": [
    "data = data.dropna()"
   ]
  },
  {
   "cell_type": "code",
   "execution_count": 31,
   "id": "6df9390c",
   "metadata": {},
   "outputs": [
    {
     "data": {
      "text/html": [
       "<div>\n",
       "<style scoped>\n",
       "    .dataframe tbody tr th:only-of-type {\n",
       "        vertical-align: middle;\n",
       "    }\n",
       "\n",
       "    .dataframe tbody tr th {\n",
       "        vertical-align: top;\n",
       "    }\n",
       "\n",
       "    .dataframe thead th {\n",
       "        text-align: right;\n",
       "    }\n",
       "</style>\n",
       "<table border=\"1\" class=\"dataframe\">\n",
       "  <thead>\n",
       "    <tr style=\"text-align: right;\">\n",
       "      <th>Price</th>\n",
       "      <th>Adj Close</th>\n",
       "      <th>Close</th>\n",
       "      <th>High</th>\n",
       "      <th>Low</th>\n",
       "      <th>Open</th>\n",
       "      <th>Volume</th>\n",
       "      <th>10_day_momentum</th>\n",
       "      <th>EMA_12</th>\n",
       "      <th>EMA_26</th>\n",
       "      <th>MACD</th>\n",
       "      <th>MACD_signal</th>\n",
       "    </tr>\n",
       "    <tr>\n",
       "      <th>Date</th>\n",
       "      <th></th>\n",
       "      <th></th>\n",
       "      <th></th>\n",
       "      <th></th>\n",
       "      <th></th>\n",
       "      <th></th>\n",
       "      <th></th>\n",
       "      <th></th>\n",
       "      <th></th>\n",
       "      <th></th>\n",
       "      <th></th>\n",
       "    </tr>\n",
       "  </thead>\n",
       "  <tbody>\n",
       "    <tr>\n",
       "      <th>2020-01-16</th>\n",
       "      <td>76.221031</td>\n",
       "      <td>78.809998</td>\n",
       "      <td>78.925003</td>\n",
       "      <td>78.022499</td>\n",
       "      <td>78.397499</td>\n",
       "      <td>108829200</td>\n",
       "      <td>0.049575</td>\n",
       "      <td>77.082156</td>\n",
       "      <td>76.223834</td>\n",
       "      <td>0.858322</td>\n",
       "      <td>0.475788</td>\n",
       "    </tr>\n",
       "    <tr>\n",
       "      <th>2020-01-17</th>\n",
       "      <td>77.064888</td>\n",
       "      <td>79.682503</td>\n",
       "      <td>79.684998</td>\n",
       "      <td>78.750000</td>\n",
       "      <td>79.067497</td>\n",
       "      <td>137816400</td>\n",
       "      <td>0.071614</td>\n",
       "      <td>77.482209</td>\n",
       "      <td>76.480032</td>\n",
       "      <td>1.002178</td>\n",
       "      <td>0.581066</td>\n",
       "    </tr>\n",
       "    <tr>\n",
       "      <th>2020-01-21</th>\n",
       "      <td>76.542641</td>\n",
       "      <td>79.142502</td>\n",
       "      <td>79.754997</td>\n",
       "      <td>79.000000</td>\n",
       "      <td>79.297501</td>\n",
       "      <td>110843200</td>\n",
       "      <td>0.055937</td>\n",
       "      <td>77.737639</td>\n",
       "      <td>76.677252</td>\n",
       "      <td>1.060387</td>\n",
       "      <td>0.676930</td>\n",
       "    </tr>\n",
       "    <tr>\n",
       "      <th>2020-01-22</th>\n",
       "      <td>76.815865</td>\n",
       "      <td>79.425003</td>\n",
       "      <td>79.997498</td>\n",
       "      <td>79.327499</td>\n",
       "      <td>79.644997</td>\n",
       "      <td>101832400</td>\n",
       "      <td>0.064714</td>\n",
       "      <td>77.997233</td>\n",
       "      <td>76.880789</td>\n",
       "      <td>1.116444</td>\n",
       "      <td>0.764833</td>\n",
       "    </tr>\n",
       "    <tr>\n",
       "      <th>2020-01-23</th>\n",
       "      <td>77.185776</td>\n",
       "      <td>79.807503</td>\n",
       "      <td>79.889999</td>\n",
       "      <td>78.912498</td>\n",
       "      <td>79.480003</td>\n",
       "      <td>104472000</td>\n",
       "      <td>0.052904</td>\n",
       "      <td>78.275736</td>\n",
       "      <td>77.097583</td>\n",
       "      <td>1.178154</td>\n",
       "      <td>0.847497</td>\n",
       "    </tr>\n",
       "  </tbody>\n",
       "</table>\n",
       "</div>"
      ],
      "text/plain": [
       "Price       Adj Close      Close       High        Low       Open     Volume  \\\n",
       "Date                                                                           \n",
       "2020-01-16  76.221031  78.809998  78.925003  78.022499  78.397499  108829200   \n",
       "2020-01-17  77.064888  79.682503  79.684998  78.750000  79.067497  137816400   \n",
       "2020-01-21  76.542641  79.142502  79.754997  79.000000  79.297501  110843200   \n",
       "2020-01-22  76.815865  79.425003  79.997498  79.327499  79.644997  101832400   \n",
       "2020-01-23  77.185776  79.807503  79.889999  78.912498  79.480003  104472000   \n",
       "\n",
       "Price       10_day_momentum     EMA_12     EMA_26      MACD  MACD_signal  \n",
       "Date                                                                      \n",
       "2020-01-16         0.049575  77.082156  76.223834  0.858322     0.475788  \n",
       "2020-01-17         0.071614  77.482209  76.480032  1.002178     0.581066  \n",
       "2020-01-21         0.055937  77.737639  76.677252  1.060387     0.676930  \n",
       "2020-01-22         0.064714  77.997233  76.880789  1.116444     0.764833  \n",
       "2020-01-23         0.052904  78.275736  77.097583  1.178154     0.847497  "
      ]
     },
     "execution_count": 31,
     "metadata": {},
     "output_type": "execute_result"
    }
   ],
   "source": [
    "data.head()\n"
   ]
  }
 ],
 "metadata": {
  "kernelspec": {
   "display_name": "Python(myEnv01)",
   "language": "python",
   "name": "myenv01"
  },
  "language_info": {
   "codemirror_mode": {
    "name": "ipython",
    "version": 3
   },
   "file_extension": ".py",
   "mimetype": "text/x-python",
   "name": "python",
   "nbconvert_exporter": "python",
   "pygments_lexer": "ipython3",
   "version": "3.11.5"
  }
 },
 "nbformat": 4,
 "nbformat_minor": 5
}
